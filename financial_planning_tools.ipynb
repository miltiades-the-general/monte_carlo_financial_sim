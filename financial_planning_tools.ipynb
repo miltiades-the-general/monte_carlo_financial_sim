{
 "cells": [
  {
   "cell_type": "markdown",
   "metadata": {},
   "source": [
    "# Financial Planning with APIs and Simulations\n",
    "\n",
    "In this Challenge, you’ll create two financial analysis tools by using a single Jupyter notebook:\n",
    "\n",
    "Part 1: A financial planner for emergencies. The members will be able to use this tool to visualize their current savings. The members can then determine if they have enough reserves for an emergency fund.\n",
    "\n",
    "Part 2: A financial planner for retirement. This tool will forecast the performance of their retirement portfolio in 30 years. To do this, the tool will make an Alpaca API call via the Alpaca SDK to get historical price data for use in Monte Carlo simulations.\n",
    "\n",
    "You’ll use the information from the Monte Carlo simulation to answer questions about the portfolio in your Jupyter notebook.\n",
    "\n"
   ]
  },
  {
   "cell_type": "code",
   "execution_count": 1,
   "metadata": {},
   "outputs": [],
   "source": [
    "# Import the required libraries and dependencies\n",
    "import os\n",
    "import requests\n",
    "import json\n",
    "import pandas as pd\n",
    "from dotenv import load_dotenv\n",
    "import alpaca_trade_api as tradeapi\n",
    "from MCForecastTools import MCSimulation\n",
    "\n",
    "%matplotlib inline"
   ]
  },
  {
   "cell_type": "code",
   "execution_count": 2,
   "metadata": {},
   "outputs": [
    {
     "data": {
      "text/plain": [
       "True"
      ]
     },
     "execution_count": 2,
     "metadata": {},
     "output_type": "execute_result"
    }
   ],
   "source": [
    "# Load the environment variables from the .env file\n",
    "#by calling the load_dotenv function\n",
    "load_dotenv(\"SAMPLE.env\")"
   ]
  },
  {
   "cell_type": "markdown",
   "metadata": {},
   "source": [
    "## Part 1: Create a Financial Planner for Emergencies"
   ]
  },
  {
   "cell_type": "markdown",
   "metadata": {},
   "source": [
    "### Evaluate the Cryptocurrency Wallet by Using the Requests Library\n",
    "\n",
    "In this section, you’ll determine the current value of a member’s cryptocurrency wallet. You’ll collect the current prices for the Bitcoin and Ethereum cryptocurrencies by using the Python Requests library. For the prototype, you’ll assume that the member holds the 1.2 Bitcoins (BTC) and 5.3 Ethereum coins (ETH). To do all this, complete the following steps:\n",
    "\n",
    "1. Create a variable named `monthly_income`, and set its value to `12000`.\n",
    "\n",
    "2. Use the Requests library to get the current price (in US dollars) of Bitcoin (BTC) and Ethereum (ETH) by using the API endpoints that the starter code supplies.\n",
    "\n",
    "3. Navigate the JSON response object to access the current price of each coin, and store each in a variable.\n",
    "\n",
    "    > **Hint** Note the specific identifier for each cryptocurrency in the API JSON response. The Bitcoin identifier is `1`, and the Ethereum identifier is `1027`.\n",
    "\n",
    "4. Calculate the value, in US dollars, of the current amount of each cryptocurrency and of the entire cryptocurrency wallet.\n",
    "\n"
   ]
  },
  {
   "cell_type": "code",
   "execution_count": 3,
   "metadata": {},
   "outputs": [],
   "source": [
    "# The current number of coins for each cryptocurrency asset held in the portfolio.\n",
    "btc_coins = 1.2\n",
    "eth_coins = 5.3"
   ]
  },
  {
   "cell_type": "markdown",
   "metadata": {},
   "source": [
    "#### Step 1: Create a variable named `monthly_income`, and set its value to `12000`."
   ]
  },
  {
   "cell_type": "code",
   "execution_count": 4,
   "metadata": {},
   "outputs": [],
   "source": [
    "# The monthly amount for the member's household income\n",
    "monthly_income = 12000"
   ]
  },
  {
   "cell_type": "markdown",
   "metadata": {},
   "source": [
    "#### Review the endpoint URLs for the API calls to Free Crypto API in order to get the current pricing information for both BTC and ETH."
   ]
  },
  {
   "cell_type": "code",
   "execution_count": 5,
   "metadata": {},
   "outputs": [],
   "source": [
    "# The Free Crypto API Call endpoint URLs for the held cryptocurrency assets\n",
    "btc_url = \"https://api.alternative.me/v2/ticker/Bitcoin/?convert=USD\"\n",
    "eth_url = \"https://api.alternative.me/v2/ticker/Ethereum/?convert=USD\""
   ]
  },
  {
   "cell_type": "markdown",
   "metadata": {},
   "source": [
    "#### Step 2. Use the Requests library to get the current price (in US dollars) of Bitcoin (BTC) and Ethereum (ETH) by using the API endpoints that the starter code supplied."
   ]
  },
  {
   "cell_type": "code",
   "execution_count": 6,
   "metadata": {},
   "outputs": [
    {
     "data": {
      "text/plain": [
       "'{\\n    \"data\": {\\n        \"1\": {\\n            \"circulating_supply\": 19098156,\\n            \"id\": 1,\\n            \"last_updated\": 1658289213,\\n            \"max_supply\": 21000000,\\n            \"name\": \"Bitcoin\",\\n            \"quotes\": {\\n                \"USD\": {\\n                    \"market_cap\": 448388230765,\\n                    \"percent_change_1h\": 0.0215621901741555,\\n                    \"percent_change_24h\": 7.0750940578514,\\n                    \"percent_change_7d\": 21.1644969539629,\\n                    \"percentage_change_1h\": 0.0215621901741555,\\n                    \"percentage_change_24h\": 7.0750940578514,\\n                    \"percentage_change_7d\": 21.1644969539629,\\n                    \"price\": 23446.0,\\n                    \"volume_24h\": 51082572833\\n                }\\n            },\\n            \"rank\": 1,\\n            \"symbol\": \"BTC\",\\n            \"total_supply\": 19098156,\\n            \"website_slug\": \"bitcoin\"\\n        }\\n    },\\n    \"metadata\": {\\n        \"error\": null,\\n        \"num_cryptocurrencies\": 3116,\\n        \"timestamp\": 1658289213\\n    }\\n}'"
      ]
     },
     "execution_count": 6,
     "metadata": {},
     "output_type": "execute_result"
    }
   ],
   "source": [
    "# Using the Python requests library, make an API call to access the current price of BTC\n",
    "btc_response = requests.get(btc_url).json()\n",
    "\n",
    "# Use the json.dumps function to review the response data from the API call\n",
    "# Use the indent and sort_keys parameters to make the response object readable\n",
    "btc_data = json.dumps(btc_response, indent=4, sort_keys=True)\n",
    "btc_data\n"
   ]
  },
  {
   "cell_type": "code",
   "execution_count": 7,
   "metadata": {},
   "outputs": [
    {
     "data": {
      "text/plain": [
       "'{\\n    \"data\": {\\n        \"1027\": {\\n            \"circulating_supply\": 119747641,\\n            \"id\": 1027,\\n            \"last_updated\": 1658289211,\\n            \"max_supply\": 119747641,\\n            \"name\": \"Ethereum\",\\n            \"quotes\": {\\n                \"USD\": {\\n                    \"market_cap\": 187067507250,\\n                    \"percent_change_1h\": 0.585832815648159,\\n                    \"percent_change_24h\": 2.71610372510629,\\n                    \"percent_change_7d\": 49.9445966038219,\\n                    \"percentage_change_1h\": 0.585832815648159,\\n                    \"percentage_change_24h\": 2.71610372510629,\\n                    \"percentage_change_7d\": 49.9445966038219,\\n                    \"price\": 1560.62,\\n                    \"volume_24h\": 23495486087\\n                }\\n            },\\n            \"rank\": 2,\\n            \"symbol\": \"ETH\",\\n            \"total_supply\": 119747641,\\n            \"website_slug\": \"ethereum\"\\n        }\\n    },\\n    \"metadata\": {\\n        \"error\": null,\\n        \"num_cryptocurrencies\": 3116,\\n        \"timestamp\": 1658289211\\n    }\\n}'"
      ]
     },
     "execution_count": 7,
     "metadata": {},
     "output_type": "execute_result"
    }
   ],
   "source": [
    "# Using the Python requests library, make an API call to access the current price ETH\n",
    "eth_response = requests.get(eth_url).json()\n",
    "\n",
    "# Use the json.dumps function to review the response data from the API call\n",
    "# Use the indent and sort_keys parameters to make the response object readable\n",
    "eth_data = json.dumps(eth_response, indent=4, sort_keys=True)\n",
    "eth_data\n"
   ]
  },
  {
   "cell_type": "markdown",
   "metadata": {},
   "source": [
    "#### Step 3: Navigate the JSON response object to access the current price of each coin, and store each in a variable."
   ]
  },
  {
   "cell_type": "code",
   "execution_count": 8,
   "metadata": {},
   "outputs": [
    {
     "data": {
      "text/plain": [
       "23446.0"
      ]
     },
     "execution_count": 8,
     "metadata": {},
     "output_type": "execute_result"
    }
   ],
   "source": [
    "# Navigate the BTC response object to access the current price of BTC\n",
    "btc_price = btc_response[\"data\"][\"1\"][\"quotes\"][\"USD\"][\"price\"]\n",
    "\n",
    "# Print the current price of BTC\n",
    "btc_price\n"
   ]
  },
  {
   "cell_type": "code",
   "execution_count": 9,
   "metadata": {},
   "outputs": [
    {
     "data": {
      "text/plain": [
       "1560.62"
      ]
     },
     "execution_count": 9,
     "metadata": {},
     "output_type": "execute_result"
    }
   ],
   "source": [
    "# Navigate the BTC response object to access the current price of ETH\n",
    "eth_price =  eth_response[\"data\"][\"1027\"][\"quotes\"][\"USD\"][\"price\"]\n",
    "\n",
    "# Print the current price of ETH\n",
    "eth_price\n"
   ]
  },
  {
   "cell_type": "markdown",
   "metadata": {},
   "source": [
    "### Step 4: Calculate the value, in US dollars, of the current amount of each cryptocurrency and of the entire cryptocurrency wallet."
   ]
  },
  {
   "cell_type": "code",
   "execution_count": 10,
   "metadata": {},
   "outputs": [
    {
     "name": "stdout",
     "output_type": "stream",
     "text": [
      "28135.2\n"
     ]
    }
   ],
   "source": [
    "# Compute the current value of the BTC holding \n",
    "btc_value = btc_coins * btc_price\n",
    "\n",
    "# Print current value of your holding in BTC\n",
    "print(btc_value)\n"
   ]
  },
  {
   "cell_type": "code",
   "execution_count": 11,
   "metadata": {},
   "outputs": [
    {
     "data": {
      "text/plain": [
       "8271.285999999998"
      ]
     },
     "execution_count": 11,
     "metadata": {},
     "output_type": "execute_result"
    }
   ],
   "source": [
    "# Compute the current value of the ETH holding \n",
    "eth_value = eth_coins * eth_price\n",
    "\n",
    "# Print current value of your holding in ETH\n",
    "eth_value\n"
   ]
  },
  {
   "cell_type": "code",
   "execution_count": 12,
   "metadata": {},
   "outputs": [
    {
     "data": {
      "text/plain": [
       "36406.486"
      ]
     },
     "execution_count": 12,
     "metadata": {},
     "output_type": "execute_result"
    }
   ],
   "source": [
    "# Compute the total value of the cryptocurrency wallet\n",
    "# Add the value of the BTC holding to the value of the ETH holding\n",
    "total_crypto_wallet = eth_value + btc_value\n",
    "\n",
    "# Print current cryptocurrency wallet balance\n",
    "total_crypto_wallet\n"
   ]
  },
  {
   "cell_type": "markdown",
   "metadata": {},
   "source": [
    "### Evaluate the Stock and Bond Holdings by Using the Alpaca SDK\n",
    "\n",
    "In this section, you’ll determine the current value of a member’s stock and bond holdings. You’ll make an API call to Alpaca via the Alpaca SDK to get the current closing prices of the SPDR S&P 500 ETF Trust (ticker: SPY) and of the iShares Core US Aggregate Bond ETF (ticker: AGG). For the prototype, assume that the member holds 110 shares of SPY, which represents the stock portion of their portfolio, and 200 shares of AGG, which represents the bond portion. To do all this, complete the following steps:\n",
    "\n",
    "1. In the `Starter_Code` folder, create an environment file (`.env`) to store the values of your Alpaca API key and Alpaca secret key.\n",
    "\n",
    "2. Set the variables for the Alpaca API and secret keys. Using the Alpaca SDK, create the Alpaca `tradeapi.REST` object. In this object, include the parameters for the Alpaca API key, the secret key, and the version number.\n",
    "\n",
    "3. Set the following parameters for the Alpaca API call:\n",
    "\n",
    "    - `tickers`: Use the tickers for the member’s stock and bond holdings.\n",
    "\n",
    "    - `timeframe`: Use a time frame of one day.\n",
    "\n",
    "    - `start_date` and `end_date`: Use the same date for these parameters, and format them with the date of the previous weekday (or `2020-08-07`). This is because you want the one closing price for the most-recent trading day.\n",
    "\n",
    "4. Get the current closing prices for `SPY` and `AGG` by using the Alpaca `get_bars` function. Format the response as a Pandas DataFrame by including the `df` property at the end of the `get_bars` function.\n",
    "\n",
    "5. Navigating the Alpaca response DataFrame, select the `SPY` and `AGG` closing prices, and store them as variables.\n",
    "\n",
    "6. Calculate the value, in US dollars, of the current amount of shares in each of the stock and bond portions of the portfolio, and print the results.\n"
   ]
  },
  {
   "cell_type": "markdown",
   "metadata": {},
   "source": [
    "#### Review the total number of shares held in both (SPY) and (AGG)."
   ]
  },
  {
   "cell_type": "code",
   "execution_count": 13,
   "metadata": {},
   "outputs": [],
   "source": [
    "# Current amount of shares held in both the stock (SPY) and bond (AGG) portion of the portfolio.\n",
    "spy_shares = 110\n",
    "agg_shares = 200\n"
   ]
  },
  {
   "cell_type": "markdown",
   "metadata": {},
   "source": [
    "#### Step 1: In the `Starter_Code` folder, create an environment file (`.env`) to store the values of your Alpaca API key and Alpaca secret key."
   ]
  },
  {
   "cell_type": "markdown",
   "metadata": {},
   "source": [
    "#### Step 2: Set the variables for the Alpaca API and secret keys. Using the Alpaca SDK, create the Alpaca `tradeapi.REST` object. In this object, include the parameters for the Alpaca API key, the secret key, and the version number."
   ]
  },
  {
   "cell_type": "code",
   "execution_count": 14,
   "metadata": {},
   "outputs": [],
   "source": [
    "# Set the variables for the Alpaca API and secret keys\n",
    "alpaca_api_key = os.getenv(\"ALPACA_API_KEY\")\n",
    "alpaca_secret_key = os.getenv(\"ALPACA_SECRET_KEY\")\n",
    "\n",
    "# Create the Alpaca tradeapi.REST object\n",
    "api = tradeapi.REST(\n",
    "    alpaca_api_key,\n",
    "    alpaca_secret_key,\n",
    "    api_version=\"v2\",\n",
    ")\n",
    "    \n"
   ]
  },
  {
   "cell_type": "markdown",
   "metadata": {},
   "source": [
    "#### Step 3: Set the following parameters for the Alpaca API call:\n",
    "\n",
    "- `tickers`: Use the tickers for the member’s stock and bond holdings.\n",
    "\n",
    "- `timeframe`: Use a time frame of one day.\n",
    "\n",
    "- `start_date` and `end_date`: Use the same date for these parameters, and format them with the date of the previous weekday (or `2020-08-07`). This is because you want the one closing price for the most-recent trading day.\n"
   ]
  },
  {
   "cell_type": "code",
   "execution_count": 15,
   "metadata": {},
   "outputs": [],
   "source": [
    "# Set the tickers for both the bond and stock portion of the portfolio\n",
    "tickers = [\"SPY\", \"AGG\"]\n",
    "\n",
    "# Set timeframe to 1Day\n",
    "timeframe=\"1Day\"\n",
    "\n",
    "# Format current date as ISO format\n",
    "# Set both the start and end date at the date of your prior weekday\n",
    "# This will give you the closing price of the previous trading day\n",
    "# Alternatively you can use a start and end date of 2020-08-07\n",
    "start_date = pd.Timestamp(\"2022-07-11\", tz=\"America/New_York\").isoformat()\n",
    "\n"
   ]
  },
  {
   "cell_type": "markdown",
   "metadata": {},
   "source": [
    "#### Step 4: Get the current closing prices for `SPY` and `AGG` by using the Alpaca `get_bars` function. Format the response as a Pandas DataFrame by including the `df` property at the end of the `get_bars` function."
   ]
  },
  {
   "cell_type": "code",
   "execution_count": 16,
   "metadata": {},
   "outputs": [
    {
     "data": {
      "text/html": [
       "<div>\n",
       "<style scoped>\n",
       "    .dataframe tbody tr th:only-of-type {\n",
       "        vertical-align: middle;\n",
       "    }\n",
       "\n",
       "    .dataframe tbody tr th {\n",
       "        vertical-align: top;\n",
       "    }\n",
       "\n",
       "    .dataframe thead tr th {\n",
       "        text-align: left;\n",
       "    }\n",
       "\n",
       "    .dataframe thead tr:last-of-type th {\n",
       "        text-align: right;\n",
       "    }\n",
       "</style>\n",
       "<table border=\"1\" class=\"dataframe\">\n",
       "  <thead>\n",
       "    <tr>\n",
       "      <th></th>\n",
       "      <th colspan=\"7\" halign=\"left\">SPY</th>\n",
       "      <th colspan=\"7\" halign=\"left\">AGG</th>\n",
       "    </tr>\n",
       "    <tr>\n",
       "      <th></th>\n",
       "      <th>open</th>\n",
       "      <th>high</th>\n",
       "      <th>low</th>\n",
       "      <th>close</th>\n",
       "      <th>volume</th>\n",
       "      <th>trade_count</th>\n",
       "      <th>vwap</th>\n",
       "      <th>open</th>\n",
       "      <th>high</th>\n",
       "      <th>low</th>\n",
       "      <th>close</th>\n",
       "      <th>volume</th>\n",
       "      <th>trade_count</th>\n",
       "      <th>vwap</th>\n",
       "    </tr>\n",
       "    <tr>\n",
       "      <th>timestamp</th>\n",
       "      <th></th>\n",
       "      <th></th>\n",
       "      <th></th>\n",
       "      <th></th>\n",
       "      <th></th>\n",
       "      <th></th>\n",
       "      <th></th>\n",
       "      <th></th>\n",
       "      <th></th>\n",
       "      <th></th>\n",
       "      <th></th>\n",
       "      <th></th>\n",
       "      <th></th>\n",
       "      <th></th>\n",
       "    </tr>\n",
       "  </thead>\n",
       "  <tbody>\n",
       "    <tr>\n",
       "      <th>2022-07-11 04:00:00+00:00</th>\n",
       "      <td>385.91</td>\n",
       "      <td>386.87</td>\n",
       "      <td>383.5</td>\n",
       "      <td>384.23</td>\n",
       "      <td>58100363</td>\n",
       "      <td>473423</td>\n",
       "      <td>384.871994</td>\n",
       "      <td>101.67</td>\n",
       "      <td>101.92</td>\n",
       "      <td>101.6029</td>\n",
       "      <td>101.7</td>\n",
       "      <td>5758310</td>\n",
       "      <td>17084</td>\n",
       "      <td>101.720884</td>\n",
       "    </tr>\n",
       "  </tbody>\n",
       "</table>\n",
       "</div>"
      ],
      "text/plain": [
       "                              SPY                                   \\\n",
       "                             open    high    low   close    volume   \n",
       "timestamp                                                            \n",
       "2022-07-11 04:00:00+00:00  385.91  386.87  383.5  384.23  58100363   \n",
       "\n",
       "                                                      AGG                    \\\n",
       "                          trade_count        vwap    open    high       low   \n",
       "timestamp                                                                     \n",
       "2022-07-11 04:00:00+00:00      473423  384.871994  101.67  101.92  101.6029   \n",
       "\n",
       "                                                                   \n",
       "                           close   volume trade_count        vwap  \n",
       "timestamp                                                          \n",
       "2022-07-11 04:00:00+00:00  101.7  5758310       17084  101.720884  "
      ]
     },
     "execution_count": 16,
     "metadata": {},
     "output_type": "execute_result"
    }
   ],
   "source": [
    "# Use the Alpaca get_bars function to get current closing prices the portfolio\n",
    "# Be sure to set the `df` property after the function to format the response object as a DataFrame\n",
    "closing_prices = api.get_bars(\n",
    "    tickers,\n",
    "    timeframe=timeframe,\n",
    "    start=start_date,\n",
    "    end=start_date,\n",
    ").df\n",
    "    \n",
    "# Reorganize the DataFrame\n",
    "# Separate ticker data\n",
    "spy = closing_prices[closing_prices[\"symbol\"] == \"SPY\"].drop(\"symbol\", axis=1)\n",
    "agg = closing_prices[closing_prices[\"symbol\"] == \"AGG\"].drop(\"symbol\", axis=1)\n",
    "# Concatenate the ticker DataFrames\n",
    "to_merge_dict = {\"SPY\": spy, \"AGG\": agg}\n",
    "spyagg_df = pd.concat(to_merge_dict.values(), axis=1, keys=to_merge_dict.keys())\n",
    "\n",
    "# Review the first 5 rows of the Alpaca DataFrame\n",
    "spyagg_df.head()\n"
   ]
  },
  {
   "cell_type": "markdown",
   "metadata": {},
   "source": [
    "#### Step 5: Navigating the Alpaca response DataFrame, select the `SPY` and `AGG` closing prices, and store them as variables."
   ]
  },
  {
   "cell_type": "code",
   "execution_count": 17,
   "metadata": {},
   "outputs": [
    {
     "data": {
      "text/plain": [
       "101.7"
      ]
     },
     "execution_count": 17,
     "metadata": {},
     "output_type": "execute_result"
    }
   ],
   "source": [
    "# Access the closing price for AGG from the Alpaca DataFrame\n",
    "# Converting the value to a floating point number\n",
    "agg_close_price = float(spyagg_df[\"AGG\"][\"close\"])\n",
    "\n",
    "# Print the AGG closing price\n",
    "agg_close_price"
   ]
  },
  {
   "cell_type": "code",
   "execution_count": 18,
   "metadata": {},
   "outputs": [
    {
     "data": {
      "text/plain": [
       "384.23"
      ]
     },
     "execution_count": 18,
     "metadata": {},
     "output_type": "execute_result"
    }
   ],
   "source": [
    "# Access the closing price for SPY from the Alpaca DataFrame\n",
    "# Converting the value to a floating point number\n",
    "spy_close_price = float(spyagg_df[\"SPY\"][\"close\"])\n",
    "\n",
    "# Print the SPY closing price\n",
    "spy_close_price"
   ]
  },
  {
   "cell_type": "markdown",
   "metadata": {},
   "source": [
    "#### Step 6: Calculate the value, in US dollars, of the current amount of shares in each of the stock and bond portions of the portfolio, and print the results."
   ]
  },
  {
   "cell_type": "code",
   "execution_count": 19,
   "metadata": {},
   "outputs": [
    {
     "data": {
      "text/plain": [
       "20340.0"
      ]
     },
     "execution_count": 19,
     "metadata": {},
     "output_type": "execute_result"
    }
   ],
   "source": [
    "# Calculate the current value of the bond portion of the portfolio\n",
    "agg_value = agg_shares * agg_close_price\n",
    "\n",
    "# Print the current value of the bond portfolio\n",
    "agg_value\n"
   ]
  },
  {
   "cell_type": "code",
   "execution_count": 20,
   "metadata": {},
   "outputs": [
    {
     "data": {
      "text/plain": [
       "42265.3"
      ]
     },
     "execution_count": 20,
     "metadata": {},
     "output_type": "execute_result"
    }
   ],
   "source": [
    "# Calculate the current value of the stock portion of the portfolio\n",
    "spy_value = spy_shares * spy_close_price\n",
    "# Print the current value of the stock portfolio\n",
    "spy_value\n"
   ]
  },
  {
   "cell_type": "code",
   "execution_count": 21,
   "metadata": {},
   "outputs": [
    {
     "data": {
      "text/plain": [
       "62605.3"
      ]
     },
     "execution_count": 21,
     "metadata": {},
     "output_type": "execute_result"
    }
   ],
   "source": [
    "# Calculate the total value of the stock and bond portion of the portfolio\n",
    "total_stocks_bonds = spy_value + agg_value\n",
    "\n",
    "# Print the current balance of the stock and bond portion of the portfolio\n",
    "total_stocks_bonds\n"
   ]
  },
  {
   "cell_type": "code",
   "execution_count": 22,
   "metadata": {},
   "outputs": [
    {
     "data": {
      "text/plain": [
       "99011.786"
      ]
     },
     "execution_count": 22,
     "metadata": {},
     "output_type": "execute_result"
    }
   ],
   "source": [
    "# Calculate the total value of the member's entire savings portfolio\n",
    "# Add the value of the cryptocurrency wallet to the value of the total stocks and bonds\n",
    "total_portfolio = float(total_stocks_bonds + total_crypto_wallet)\n",
    "\n",
    "# Print current portfolio balance\n",
    "total_portfolio\n"
   ]
  },
  {
   "cell_type": "markdown",
   "metadata": {},
   "source": [
    "### Evaluate the Emergency Fund\n",
    "\n",
    "In this section, you’ll use the valuations for the cryptocurrency wallet and for the stock and bond portions of the portfolio to determine if the credit union member has enough savings to build an emergency fund into their financial plan. To do this, complete the following steps:\n",
    "\n",
    "1. Create a Python list named `savings_data` that has two elements. The first element contains the total value of the cryptocurrency wallet. The second element contains the total value of the stock and bond portions of the portfolio.\n",
    "\n",
    "2. Use the `savings_data` list to create a Pandas DataFrame named `savings_df`, and then display this DataFrame. The function to create the DataFrame should take the following three parameters:\n",
    "\n",
    "    - `savings_data`: Use the list that you just created.\n",
    "\n",
    "    - `columns`: Set this parameter equal to a Python list with a single value called `amount`.\n",
    "\n",
    "    - `index`: Set this parameter equal to a Python list with the values of `crypto` and `stock/bond`.\n",
    "\n",
    "3. Use the `savings_df` DataFrame to plot a pie chart that visualizes the composition of the member’s portfolio. The y-axis of the pie chart uses `amount`. Be sure to add a title.\n",
    "\n",
    "4. Using Python, determine if the current portfolio has enough to create an emergency fund as part of the member’s financial plan. Ideally, an emergency fund should equal to three times the member’s monthly income. To do this, implement the following steps:\n",
    "\n",
    "    1. Create a variable named `emergency_fund_value`, and set it equal to three times the value of the member’s `monthly_income` of $12000. (You set this earlier in Part 1).\n",
    "\n",
    "    2. Create a series of three if statements to determine if the member’s total portfolio is large enough to fund the emergency portfolio:\n",
    "\n",
    "        1. If the total portfolio value is greater than the emergency fund value, display a message congratulating the member for having enough money in this fund.\n",
    "\n",
    "        2. Else if the total portfolio value is equal to the emergency fund value, display a message congratulating the member on reaching this important financial goal.\n",
    "\n",
    "        3. Else the total portfolio is less than the emergency fund value, so display a message showing how many dollars away the member is from reaching the goal. (Subtract the total portfolio value from the emergency fund value.)\n"
   ]
  },
  {
   "cell_type": "markdown",
   "metadata": {},
   "source": [
    "#### Step 1: Create a Python list named `savings_data` that has two elements. The first element contains the total value of the cryptocurrency wallet. The second element contains the total value of the stock and bond portions of the portfolio."
   ]
  },
  {
   "cell_type": "code",
   "execution_count": 23,
   "metadata": {},
   "outputs": [
    {
     "data": {
      "text/plain": [
       "[36406.486, 62605.3]"
      ]
     },
     "execution_count": 23,
     "metadata": {},
     "output_type": "execute_result"
    }
   ],
   "source": [
    "# Consolidate financial assets data into a Python list\n",
    "savings_data = [total_crypto_wallet, total_stocks_bonds]\n",
    "\n",
    "# Review the Python list savings_data\n",
    "savings_data\n"
   ]
  },
  {
   "cell_type": "markdown",
   "metadata": {},
   "source": [
    "#### Step 2: Use the `savings_data` list to create a Pandas DataFrame named `savings_df`, and then display this DataFrame. The function to create the DataFrame should take the following three parameters:\n",
    "\n",
    "- `savings_data`: Use the list that you just created.\n",
    "\n",
    "- `columns`: Set this parameter equal to a Python list with a single value called `amount`.\n",
    "\n",
    "- `index`: Set this parameter equal to a Python list with the values of `crypto` and `stock/bond`.\n"
   ]
  },
  {
   "cell_type": "code",
   "execution_count": 24,
   "metadata": {},
   "outputs": [
    {
     "data": {
      "text/html": [
       "<div>\n",
       "<style scoped>\n",
       "    .dataframe tbody tr th:only-of-type {\n",
       "        vertical-align: middle;\n",
       "    }\n",
       "\n",
       "    .dataframe tbody tr th {\n",
       "        vertical-align: top;\n",
       "    }\n",
       "\n",
       "    .dataframe thead th {\n",
       "        text-align: right;\n",
       "    }\n",
       "</style>\n",
       "<table border=\"1\" class=\"dataframe\">\n",
       "  <thead>\n",
       "    <tr style=\"text-align: right;\">\n",
       "      <th></th>\n",
       "      <th>amount</th>\n",
       "    </tr>\n",
       "  </thead>\n",
       "  <tbody>\n",
       "    <tr>\n",
       "      <th>crypto</th>\n",
       "      <td>36406.486</td>\n",
       "    </tr>\n",
       "    <tr>\n",
       "      <th>stock/bond</th>\n",
       "      <td>62605.300</td>\n",
       "    </tr>\n",
       "  </tbody>\n",
       "</table>\n",
       "</div>"
      ],
      "text/plain": [
       "               amount\n",
       "crypto      36406.486\n",
       "stock/bond  62605.300"
      ]
     },
     "execution_count": 24,
     "metadata": {},
     "output_type": "execute_result"
    }
   ],
   "source": [
    "# Create a Pandas DataFrame called savings_df \n",
    "savings_df = pd.DataFrame(savings_data, columns=[\"amount\"], index=[\"crypto\", \"stock/bond\"])\n",
    "\n",
    "# Display the savings_df DataFrame\n",
    "savings_df\n"
   ]
  },
  {
   "cell_type": "markdown",
   "metadata": {},
   "source": [
    "#### Step 3: Use the `savings_df` DataFrame to plot a pie chart that visualizes the composition of the member’s portfolio. The y-axis of the pie chart uses `amount`. Be sure to add a title."
   ]
  },
  {
   "cell_type": "code",
   "execution_count": 25,
   "metadata": {},
   "outputs": [
    {
     "data": {
      "text/plain": [
       "array([<AxesSubplot:ylabel='amount'>], dtype=object)"
      ]
     },
     "execution_count": 25,
     "metadata": {},
     "output_type": "execute_result"
    },
    {
     "data": {
      "image/png": "[encoded data removed]",
      "text/plain": [
       "<Figure size 1080x504 with 1 Axes>"
      ]
     },
     "metadata": {},
     "output_type": "display_data"
    }
   ],
   "source": [
    "# Plot the total value of the member's portfolio (crypto and stock/bond) in a pie chart\n",
    "savings_df.plot(kind=\"pie\", subplots=True, figsize=(15,7), title=\"Portfolio Composition by Stocks/Bonds and Crypto\")"
   ]
  },
  {
   "cell_type": "markdown",
   "metadata": {},
   "source": [
    "#### Step 4: Using Python, determine if the current portfolio has enough to create an emergency fund as part of the member’s financial plan. Ideally, an emergency fund should equal to three times the member’s monthly income. To do this, implement the following steps:\n",
    "\n",
    "Step 1. Create a variable named `emergency_fund_value`, and set it equal to three times the value of the member’s `monthly_income` of 12000. (You set this earlier in Part 1).\n",
    "\n",
    "Step 2. Create a series of three if statements to determine if the member’s total portfolio is large enough to fund the emergency portfolio:\n",
    "\n",
    "* If the total portfolio value is greater than the emergency fund value, display a message congratulating the member for having enough money in this fund.\n",
    "\n",
    "* Else if the total portfolio value is equal to the emergency fund value, display a message congratulating the member on reaching this important financial goal.\n",
    "\n",
    "* Else the total portfolio is less than the emergency fund value, so display a message showing how many dollars away the member is from reaching the goal. (Subtract the total portfolio value from the emergency fund value.)\n"
   ]
  },
  {
   "cell_type": "markdown",
   "metadata": {},
   "source": [
    "##### Step 4-1: Create a variable named `emergency_fund_value`, and set it equal to three times the value of the member’s `monthly_income` of 12000. (You set this earlier in Part 1)."
   ]
  },
  {
   "cell_type": "code",
   "execution_count": 26,
   "metadata": {},
   "outputs": [],
   "source": [
    "# Create a variable named emergency_fund_value\n",
    "emergency_fund_value = monthly_income * 3"
   ]
  },
  {
   "cell_type": "markdown",
   "metadata": {},
   "source": [
    "##### Step 4-2: Create a series of three if statements to determine if the member’s total portfolio is large enough to fund the emergency portfolio:\n",
    "\n",
    "* If the total portfolio value is greater than the emergency fund value, display a message congratulating the member for having enough money in this fund.\n",
    "\n",
    "* Else if the total portfolio value is equal to the emergency fund value, display a message congratulating the member on reaching this important financial goal.\n",
    "\n",
    "* Else the total portfolio is less than the emergency fund value, so display a message showing how many dollars away the member is from reaching the goal. (Subtract the total portfolio value from the emergency fund value.)"
   ]
  },
  {
   "cell_type": "code",
   "execution_count": 27,
   "metadata": {},
   "outputs": [
    {
     "data": {
      "text/plain": [
       "'Congratulations! You have more than enough money in your savings for an emergency fund!'"
      ]
     },
     "execution_count": 27,
     "metadata": {},
     "output_type": "execute_result"
    }
   ],
   "source": [
    "# Evaluate the possibility of creating an emergency fund with 3 conditions:\n",
    "def check_emergency_fund(total_portfolio, emergency_fund_value):\n",
    "    if total_portfolio > emergency_fund_value:\n",
    "        return \"Congratulations! You have more than enough money in your savings for an emergency fund!\"\n",
    "    if total_portfolio == emergency_fund_value:\n",
    "        return \"Congratulations! You have enough money in your savings for an emergency fund!\"\n",
    "    if total_portfolio < emergency_fund_value:\n",
    "        return f\"You need to save an additional: ${emergency_fund_value - total_portfolio: .2f} in order to cover your emergency fund\"\n",
    "    \n",
    "check_emergency_fund(total_portfolio, emergency_fund_value)\n"
   ]
  },
  {
   "cell_type": "markdown",
   "metadata": {},
   "source": [
    "## Part 2: Create a Financial Planner for Retirement"
   ]
  },
  {
   "cell_type": "markdown",
   "metadata": {},
   "source": [
    "### Create the Monte Carlo Simulation\n",
    "\n",
    "In this section, you’ll use the MCForecastTools library to create a Monte Carlo simulation for the member’s savings portfolio. To do this, complete the following steps:\n",
    "\n",
    "1. Make an API call via the Alpaca SDK to get 3 years of historical closing prices for a traditional 60/40 portfolio split: 60% stocks (SPY) and 40% bonds (AGG).\n",
    "\n",
    "2. Run a Monte Carlo simulation of 500 samples and 30 years for the 60/40 portfolio, and then plot the results.The following image shows the overlay line plot resulting from a simulation with these characteristics. However, because a random number generator is used to run each live Monte Carlo simulation, your image will differ slightly from this exact image:\n",
    "\n",
    "![A screenshot depicts the resulting plot.](Images/5-4-monte-carlo-line-plot.png)\n",
    "\n",
    "3. Plot the probability distribution of the Monte Carlo simulation. Plot the probability distribution of the Monte Carlo simulation. The following image shows the histogram plot resulting from a simulation with these characteristics. However, because a random number generator is used to run each live Monte Carlo simulation, your image will differ slightly from this exact image:\n",
    "\n",
    "![A screenshot depicts the histogram plot.](Images/5-4-monte-carlo-histogram.png)\n",
    "\n",
    "4. Generate the summary statistics for the Monte Carlo simulation.\n",
    "\n"
   ]
  },
  {
   "cell_type": "markdown",
   "metadata": {},
   "source": [
    "#### Step 1: Make an API call via the Alpaca SDK to get 3 years of historical closing prices for a traditional 60/40 portfolio split: 60% stocks (SPY) and 40% bonds (AGG)."
   ]
  },
  {
   "cell_type": "code",
   "execution_count": 30,
   "metadata": {},
   "outputs": [],
   "source": [
    "# Set start and end dates of 3 years back from your current date\n",
    "# Alternatively, you can use an end date of 2020-08-07 and work 3 years back from that date \n",
    "start_three_date = \"2019-07-19\"\n",
    "end_three_date = \"2022-07-17\""
   ]
  },
  {
   "cell_type": "code",
   "execution_count": 33,
   "metadata": {},
   "outputs": [
    {
     "data": {
      "text/html": [
       "<div>\n",
       "<style scoped>\n",
       "    .dataframe tbody tr th:only-of-type {\n",
       "        vertical-align: middle;\n",
       "    }\n",
       "\n",
       "    .dataframe tbody tr th {\n",
       "        vertical-align: top;\n",
       "    }\n",
       "\n",
       "    .dataframe thead tr th {\n",
       "        text-align: left;\n",
       "    }\n",
       "\n",
       "    .dataframe thead tr:last-of-type th {\n",
       "        text-align: right;\n",
       "    }\n",
       "</style>\n",
       "<table border=\"1\" class=\"dataframe\">\n",
       "  <thead>\n",
       "    <tr>\n",
       "      <th></th>\n",
       "      <th colspan=\"7\" halign=\"left\">SPY</th>\n",
       "      <th colspan=\"7\" halign=\"left\">AGG</th>\n",
       "    </tr>\n",
       "    <tr>\n",
       "      <th></th>\n",
       "      <th>open</th>\n",
       "      <th>high</th>\n",
       "      <th>low</th>\n",
       "      <th>close</th>\n",
       "      <th>volume</th>\n",
       "      <th>trade_count</th>\n",
       "      <th>vwap</th>\n",
       "      <th>open</th>\n",
       "      <th>high</th>\n",
       "      <th>low</th>\n",
       "      <th>close</th>\n",
       "      <th>volume</th>\n",
       "      <th>trade_count</th>\n",
       "      <th>vwap</th>\n",
       "    </tr>\n",
       "    <tr>\n",
       "      <th>timestamp</th>\n",
       "      <th></th>\n",
       "      <th></th>\n",
       "      <th></th>\n",
       "      <th></th>\n",
       "      <th></th>\n",
       "      <th></th>\n",
       "      <th></th>\n",
       "      <th></th>\n",
       "      <th></th>\n",
       "      <th></th>\n",
       "      <th></th>\n",
       "      <th></th>\n",
       "      <th></th>\n",
       "      <th></th>\n",
       "    </tr>\n",
       "  </thead>\n",
       "  <tbody>\n",
       "    <tr>\n",
       "      <th>2019-07-19 04:00:00+00:00</th>\n",
       "      <td>111.22</td>\n",
       "      <td>111.286</td>\n",
       "      <td>111.1400</td>\n",
       "      <td>111.17</td>\n",
       "      <td>3150774</td>\n",
       "      <td>9948</td>\n",
       "      <td>111.225017</td>\n",
       "      <td>111.22</td>\n",
       "      <td>111.286</td>\n",
       "      <td>111.1400</td>\n",
       "      <td>111.17</td>\n",
       "      <td>3150774</td>\n",
       "      <td>9948</td>\n",
       "      <td>111.225017</td>\n",
       "    </tr>\n",
       "    <tr>\n",
       "      <th>2019-07-22 04:00:00+00:00</th>\n",
       "      <td>111.41</td>\n",
       "      <td>111.410</td>\n",
       "      <td>111.3000</td>\n",
       "      <td>111.31</td>\n",
       "      <td>2855073</td>\n",
       "      <td>7937</td>\n",
       "      <td>111.344721</td>\n",
       "      <td>111.41</td>\n",
       "      <td>111.410</td>\n",
       "      <td>111.3000</td>\n",
       "      <td>111.31</td>\n",
       "      <td>2855073</td>\n",
       "      <td>7937</td>\n",
       "      <td>111.344721</td>\n",
       "    </tr>\n",
       "    <tr>\n",
       "      <th>2019-07-23 04:00:00+00:00</th>\n",
       "      <td>111.27</td>\n",
       "      <td>111.320</td>\n",
       "      <td>111.1600</td>\n",
       "      <td>111.20</td>\n",
       "      <td>2659305</td>\n",
       "      <td>10894</td>\n",
       "      <td>111.219201</td>\n",
       "      <td>111.27</td>\n",
       "      <td>111.320</td>\n",
       "      <td>111.1600</td>\n",
       "      <td>111.20</td>\n",
       "      <td>2659305</td>\n",
       "      <td>10894</td>\n",
       "      <td>111.219201</td>\n",
       "    </tr>\n",
       "    <tr>\n",
       "      <th>2019-07-24 04:00:00+00:00</th>\n",
       "      <td>111.33</td>\n",
       "      <td>111.410</td>\n",
       "      <td>111.2950</td>\n",
       "      <td>111.36</td>\n",
       "      <td>2783461</td>\n",
       "      <td>12750</td>\n",
       "      <td>111.337833</td>\n",
       "      <td>111.33</td>\n",
       "      <td>111.410</td>\n",
       "      <td>111.2950</td>\n",
       "      <td>111.36</td>\n",
       "      <td>2783461</td>\n",
       "      <td>12750</td>\n",
       "      <td>111.337833</td>\n",
       "    </tr>\n",
       "    <tr>\n",
       "      <th>2019-07-25 04:00:00+00:00</th>\n",
       "      <td>111.33</td>\n",
       "      <td>111.330</td>\n",
       "      <td>111.0474</td>\n",
       "      <td>111.19</td>\n",
       "      <td>2977486</td>\n",
       "      <td>11325</td>\n",
       "      <td>111.190464</td>\n",
       "      <td>111.33</td>\n",
       "      <td>111.330</td>\n",
       "      <td>111.0474</td>\n",
       "      <td>111.19</td>\n",
       "      <td>2977486</td>\n",
       "      <td>11325</td>\n",
       "      <td>111.190464</td>\n",
       "    </tr>\n",
       "  </tbody>\n",
       "</table>\n",
       "</div>"
      ],
      "text/plain": [
       "                              SPY                                      \\\n",
       "                             open     high       low   close   volume   \n",
       "timestamp                                                               \n",
       "2019-07-19 04:00:00+00:00  111.22  111.286  111.1400  111.17  3150774   \n",
       "2019-07-22 04:00:00+00:00  111.41  111.410  111.3000  111.31  2855073   \n",
       "2019-07-23 04:00:00+00:00  111.27  111.320  111.1600  111.20  2659305   \n",
       "2019-07-24 04:00:00+00:00  111.33  111.410  111.2950  111.36  2783461   \n",
       "2019-07-25 04:00:00+00:00  111.33  111.330  111.0474  111.19  2977486   \n",
       "\n",
       "                                                      AGG                     \\\n",
       "                          trade_count        vwap    open     high       low   \n",
       "timestamp                                                                      \n",
       "2019-07-19 04:00:00+00:00        9948  111.225017  111.22  111.286  111.1400   \n",
       "2019-07-22 04:00:00+00:00        7937  111.344721  111.41  111.410  111.3000   \n",
       "2019-07-23 04:00:00+00:00       10894  111.219201  111.27  111.320  111.1600   \n",
       "2019-07-24 04:00:00+00:00       12750  111.337833  111.33  111.410  111.2950   \n",
       "2019-07-25 04:00:00+00:00       11325  111.190464  111.33  111.330  111.0474   \n",
       "\n",
       "                                                                    \n",
       "                            close   volume trade_count        vwap  \n",
       "timestamp                                                           \n",
       "2019-07-19 04:00:00+00:00  111.17  3150774        9948  111.225017  \n",
       "2019-07-22 04:00:00+00:00  111.31  2855073        7937  111.344721  \n",
       "2019-07-23 04:00:00+00:00  111.20  2659305       10894  111.219201  \n",
       "2019-07-24 04:00:00+00:00  111.36  2783461       12750  111.337833  \n",
       "2019-07-25 04:00:00+00:00  111.19  2977486       11325  111.190464  "
      ]
     },
     "metadata": {},
     "output_type": "display_data"
    },
    {
     "data": {
      "text/html": [
       "<div>\n",
       "<style scoped>\n",
       "    .dataframe tbody tr th:only-of-type {\n",
       "        vertical-align: middle;\n",
       "    }\n",
       "\n",
       "    .dataframe tbody tr th {\n",
       "        vertical-align: top;\n",
       "    }\n",
       "\n",
       "    .dataframe thead tr th {\n",
       "        text-align: left;\n",
       "    }\n",
       "\n",
       "    .dataframe thead tr:last-of-type th {\n",
       "        text-align: right;\n",
       "    }\n",
       "</style>\n",
       "<table border=\"1\" class=\"dataframe\">\n",
       "  <thead>\n",
       "    <tr>\n",
       "      <th></th>\n",
       "      <th colspan=\"7\" halign=\"left\">SPY</th>\n",
       "      <th colspan=\"7\" halign=\"left\">AGG</th>\n",
       "    </tr>\n",
       "    <tr>\n",
       "      <th></th>\n",
       "      <th>open</th>\n",
       "      <th>high</th>\n",
       "      <th>low</th>\n",
       "      <th>close</th>\n",
       "      <th>volume</th>\n",
       "      <th>trade_count</th>\n",
       "      <th>vwap</th>\n",
       "      <th>open</th>\n",
       "      <th>high</th>\n",
       "      <th>low</th>\n",
       "      <th>close</th>\n",
       "      <th>volume</th>\n",
       "      <th>trade_count</th>\n",
       "      <th>vwap</th>\n",
       "    </tr>\n",
       "    <tr>\n",
       "      <th>timestamp</th>\n",
       "      <th></th>\n",
       "      <th></th>\n",
       "      <th></th>\n",
       "      <th></th>\n",
       "      <th></th>\n",
       "      <th></th>\n",
       "      <th></th>\n",
       "      <th></th>\n",
       "      <th></th>\n",
       "      <th></th>\n",
       "      <th></th>\n",
       "      <th></th>\n",
       "      <th></th>\n",
       "      <th></th>\n",
       "    </tr>\n",
       "  </thead>\n",
       "  <tbody>\n",
       "    <tr>\n",
       "      <th>2022-07-11 04:00:00+00:00</th>\n",
       "      <td>101.67</td>\n",
       "      <td>101.92</td>\n",
       "      <td>101.6029</td>\n",
       "      <td>101.70</td>\n",
       "      <td>5758310</td>\n",
       "      <td>17084</td>\n",
       "      <td>101.720884</td>\n",
       "      <td>101.67</td>\n",
       "      <td>101.92</td>\n",
       "      <td>101.6029</td>\n",
       "      <td>101.70</td>\n",
       "      <td>5758310</td>\n",
       "      <td>17084</td>\n",
       "      <td>101.720884</td>\n",
       "    </tr>\n",
       "    <tr>\n",
       "      <th>2022-07-12 04:00:00+00:00</th>\n",
       "      <td>102.02</td>\n",
       "      <td>102.19</td>\n",
       "      <td>101.8200</td>\n",
       "      <td>101.84</td>\n",
       "      <td>6664991</td>\n",
       "      <td>21057</td>\n",
       "      <td>102.039440</td>\n",
       "      <td>102.02</td>\n",
       "      <td>102.19</td>\n",
       "      <td>101.8200</td>\n",
       "      <td>101.84</td>\n",
       "      <td>6664991</td>\n",
       "      <td>21057</td>\n",
       "      <td>102.039440</td>\n",
       "    </tr>\n",
       "    <tr>\n",
       "      <th>2022-07-13 04:00:00+00:00</th>\n",
       "      <td>101.23</td>\n",
       "      <td>102.24</td>\n",
       "      <td>101.1900</td>\n",
       "      <td>102.21</td>\n",
       "      <td>6514247</td>\n",
       "      <td>26716</td>\n",
       "      <td>101.977478</td>\n",
       "      <td>101.23</td>\n",
       "      <td>102.24</td>\n",
       "      <td>101.1900</td>\n",
       "      <td>102.21</td>\n",
       "      <td>6514247</td>\n",
       "      <td>26716</td>\n",
       "      <td>101.977478</td>\n",
       "    </tr>\n",
       "    <tr>\n",
       "      <th>2022-07-14 04:00:00+00:00</th>\n",
       "      <td>101.51</td>\n",
       "      <td>101.98</td>\n",
       "      <td>101.3300</td>\n",
       "      <td>101.85</td>\n",
       "      <td>6224496</td>\n",
       "      <td>24722</td>\n",
       "      <td>101.747120</td>\n",
       "      <td>101.51</td>\n",
       "      <td>101.98</td>\n",
       "      <td>101.3300</td>\n",
       "      <td>101.85</td>\n",
       "      <td>6224496</td>\n",
       "      <td>24722</td>\n",
       "      <td>101.747120</td>\n",
       "    </tr>\n",
       "    <tr>\n",
       "      <th>2022-07-15 04:00:00+00:00</th>\n",
       "      <td>101.94</td>\n",
       "      <td>102.35</td>\n",
       "      <td>101.9000</td>\n",
       "      <td>102.25</td>\n",
       "      <td>8440151</td>\n",
       "      <td>27300</td>\n",
       "      <td>102.214854</td>\n",
       "      <td>101.94</td>\n",
       "      <td>102.35</td>\n",
       "      <td>101.9000</td>\n",
       "      <td>102.25</td>\n",
       "      <td>8440151</td>\n",
       "      <td>27300</td>\n",
       "      <td>102.214854</td>\n",
       "    </tr>\n",
       "  </tbody>\n",
       "</table>\n",
       "</div>"
      ],
      "text/plain": [
       "                              SPY                                     \\\n",
       "                             open    high       low   close   volume   \n",
       "timestamp                                                              \n",
       "2022-07-11 04:00:00+00:00  101.67  101.92  101.6029  101.70  5758310   \n",
       "2022-07-12 04:00:00+00:00  102.02  102.19  101.8200  101.84  6664991   \n",
       "2022-07-13 04:00:00+00:00  101.23  102.24  101.1900  102.21  6514247   \n",
       "2022-07-14 04:00:00+00:00  101.51  101.98  101.3300  101.85  6224496   \n",
       "2022-07-15 04:00:00+00:00  101.94  102.35  101.9000  102.25  8440151   \n",
       "\n",
       "                                                      AGG                    \\\n",
       "                          trade_count        vwap    open    high       low   \n",
       "timestamp                                                                     \n",
       "2022-07-11 04:00:00+00:00       17084  101.720884  101.67  101.92  101.6029   \n",
       "2022-07-12 04:00:00+00:00       21057  102.039440  102.02  102.19  101.8200   \n",
       "2022-07-13 04:00:00+00:00       26716  101.977478  101.23  102.24  101.1900   \n",
       "2022-07-14 04:00:00+00:00       24722  101.747120  101.51  101.98  101.3300   \n",
       "2022-07-15 04:00:00+00:00       27300  102.214854  101.94  102.35  101.9000   \n",
       "\n",
       "                                                                    \n",
       "                            close   volume trade_count        vwap  \n",
       "timestamp                                                           \n",
       "2022-07-11 04:00:00+00:00  101.70  5758310       17084  101.720884  \n",
       "2022-07-12 04:00:00+00:00  101.84  6664991       21057  102.039440  \n",
       "2022-07-13 04:00:00+00:00  102.21  6514247       26716  101.977478  \n",
       "2022-07-14 04:00:00+00:00  101.85  6224496       24722  101.747120  \n",
       "2022-07-15 04:00:00+00:00  102.25  8440151       27300  102.214854  "
      ]
     },
     "metadata": {},
     "output_type": "display_data"
    }
   ],
   "source": [
    "# Use the Alpaca get_bars function to make the API call to get the 3 years worth of pricing data\n",
    "# The tickers and timeframe parameters should have been set in Part 1 of this activity \n",
    "# The start and end dates should be updated with the information set above\n",
    "# Remember to add the df property to the end of the call so the response is returned as a DataFrame\n",
    "three_years_data = api.get_bars(\n",
    "    tickers,\n",
    "    timeframe=timeframe,\n",
    "    start=start_three_date,\n",
    "    end=end_three_date,\n",
    ").df\n",
    "# Reorganize the DataFrame\n",
    "# Separate ticker data\n",
    "spy_three_years = three_years_data[three_years_data[\"symbol\"] == \"AGG\"].drop(\"symbol\", axis=1)\n",
    "agg_three_years = three_years_data[three_years_data[\"symbol\"] == \"AGG\"].drop(\"symbol\", axis=1)\n",
    "# Concatenate the ticker DataFrames\n",
    "to_merge_three_keys = {\"SPY\": spy_three_years, \"AGG\": agg_three_years}\n",
    "stocks_bonds_three_years = pd.concat(to_merge_three_keys.values(), axis=1, keys=to_merge_three_keys.keys())\n",
    "# Display both the first and last five rows of the DataFrame\n",
    "display(stocks_bonds_three_years.head())\n",
    "display(stocks_bonds_three_years.tail())\n"
   ]
  },
  {
   "cell_type": "markdown",
   "metadata": {},
   "source": [
    "#### Step 2: Run a Monte Carlo simulation of 500 samples and 30 years for the 60/40 portfolio, and then plot the results."
   ]
  },
  {
   "cell_type": "code",
   "execution_count": 35,
   "metadata": {},
   "outputs": [
    {
     "data": {
      "text/html": [
       "<div>\n",
       "<style scoped>\n",
       "    .dataframe tbody tr th:only-of-type {\n",
       "        vertical-align: middle;\n",
       "    }\n",
       "\n",
       "    .dataframe tbody tr th {\n",
       "        vertical-align: top;\n",
       "    }\n",
       "\n",
       "    .dataframe thead tr th {\n",
       "        text-align: left;\n",
       "    }\n",
       "\n",
       "    .dataframe thead tr:last-of-type th {\n",
       "        text-align: right;\n",
       "    }\n",
       "</style>\n",
       "<table border=\"1\" class=\"dataframe\">\n",
       "  <thead>\n",
       "    <tr>\n",
       "      <th></th>\n",
       "      <th colspan=\"8\" halign=\"left\">SPY</th>\n",
       "      <th colspan=\"8\" halign=\"left\">AGG</th>\n",
       "    </tr>\n",
       "    <tr>\n",
       "      <th></th>\n",
       "      <th>open</th>\n",
       "      <th>high</th>\n",
       "      <th>low</th>\n",
       "      <th>close</th>\n",
       "      <th>volume</th>\n",
       "      <th>trade_count</th>\n",
       "      <th>vwap</th>\n",
       "      <th>daily_return</th>\n",
       "      <th>open</th>\n",
       "      <th>high</th>\n",
       "      <th>low</th>\n",
       "      <th>close</th>\n",
       "      <th>volume</th>\n",
       "      <th>trade_count</th>\n",
       "      <th>vwap</th>\n",
       "      <th>daily_return</th>\n",
       "    </tr>\n",
       "    <tr>\n",
       "      <th>timestamp</th>\n",
       "      <th></th>\n",
       "      <th></th>\n",
       "      <th></th>\n",
       "      <th></th>\n",
       "      <th></th>\n",
       "      <th></th>\n",
       "      <th></th>\n",
       "      <th></th>\n",
       "      <th></th>\n",
       "      <th></th>\n",
       "      <th></th>\n",
       "      <th></th>\n",
       "      <th></th>\n",
       "      <th></th>\n",
       "      <th></th>\n",
       "      <th></th>\n",
       "    </tr>\n",
       "  </thead>\n",
       "  <tbody>\n",
       "    <tr>\n",
       "      <th>2019-07-19 04:00:00+00:00</th>\n",
       "      <td>111.22</td>\n",
       "      <td>111.286</td>\n",
       "      <td>111.1400</td>\n",
       "      <td>111.17</td>\n",
       "      <td>3150774</td>\n",
       "      <td>9948</td>\n",
       "      <td>111.225017</td>\n",
       "      <td>NaN</td>\n",
       "      <td>111.22</td>\n",
       "      <td>111.286</td>\n",
       "      <td>111.1400</td>\n",
       "      <td>111.17</td>\n",
       "      <td>3150774</td>\n",
       "      <td>9948</td>\n",
       "      <td>111.225017</td>\n",
       "      <td>NaN</td>\n",
       "    </tr>\n",
       "    <tr>\n",
       "      <th>2019-07-22 04:00:00+00:00</th>\n",
       "      <td>111.41</td>\n",
       "      <td>111.410</td>\n",
       "      <td>111.3000</td>\n",
       "      <td>111.31</td>\n",
       "      <td>2855073</td>\n",
       "      <td>7937</td>\n",
       "      <td>111.344721</td>\n",
       "      <td>0.001259</td>\n",
       "      <td>111.41</td>\n",
       "      <td>111.410</td>\n",
       "      <td>111.3000</td>\n",
       "      <td>111.31</td>\n",
       "      <td>2855073</td>\n",
       "      <td>7937</td>\n",
       "      <td>111.344721</td>\n",
       "      <td>0.001259</td>\n",
       "    </tr>\n",
       "    <tr>\n",
       "      <th>2019-07-23 04:00:00+00:00</th>\n",
       "      <td>111.27</td>\n",
       "      <td>111.320</td>\n",
       "      <td>111.1600</td>\n",
       "      <td>111.20</td>\n",
       "      <td>2659305</td>\n",
       "      <td>10894</td>\n",
       "      <td>111.219201</td>\n",
       "      <td>-0.000988</td>\n",
       "      <td>111.27</td>\n",
       "      <td>111.320</td>\n",
       "      <td>111.1600</td>\n",
       "      <td>111.20</td>\n",
       "      <td>2659305</td>\n",
       "      <td>10894</td>\n",
       "      <td>111.219201</td>\n",
       "      <td>-0.000988</td>\n",
       "    </tr>\n",
       "    <tr>\n",
       "      <th>2019-07-24 04:00:00+00:00</th>\n",
       "      <td>111.33</td>\n",
       "      <td>111.410</td>\n",
       "      <td>111.2950</td>\n",
       "      <td>111.36</td>\n",
       "      <td>2783461</td>\n",
       "      <td>12750</td>\n",
       "      <td>111.337833</td>\n",
       "      <td>0.001439</td>\n",
       "      <td>111.33</td>\n",
       "      <td>111.410</td>\n",
       "      <td>111.2950</td>\n",
       "      <td>111.36</td>\n",
       "      <td>2783461</td>\n",
       "      <td>12750</td>\n",
       "      <td>111.337833</td>\n",
       "      <td>0.001439</td>\n",
       "    </tr>\n",
       "    <tr>\n",
       "      <th>2019-07-25 04:00:00+00:00</th>\n",
       "      <td>111.33</td>\n",
       "      <td>111.330</td>\n",
       "      <td>111.0474</td>\n",
       "      <td>111.19</td>\n",
       "      <td>2977486</td>\n",
       "      <td>11325</td>\n",
       "      <td>111.190464</td>\n",
       "      <td>-0.001527</td>\n",
       "      <td>111.33</td>\n",
       "      <td>111.330</td>\n",
       "      <td>111.0474</td>\n",
       "      <td>111.19</td>\n",
       "      <td>2977486</td>\n",
       "      <td>11325</td>\n",
       "      <td>111.190464</td>\n",
       "      <td>-0.001527</td>\n",
       "    </tr>\n",
       "  </tbody>\n",
       "</table>\n",
       "</div>"
      ],
      "text/plain": [
       "                              SPY                                      \\\n",
       "                             open     high       low   close   volume   \n",
       "timestamp                                                               \n",
       "2019-07-19 04:00:00+00:00  111.22  111.286  111.1400  111.17  3150774   \n",
       "2019-07-22 04:00:00+00:00  111.41  111.410  111.3000  111.31  2855073   \n",
       "2019-07-23 04:00:00+00:00  111.27  111.320  111.1600  111.20  2659305   \n",
       "2019-07-24 04:00:00+00:00  111.33  111.410  111.2950  111.36  2783461   \n",
       "2019-07-25 04:00:00+00:00  111.33  111.330  111.0474  111.19  2977486   \n",
       "\n",
       "                                                                   AGG  \\\n",
       "                          trade_count        vwap daily_return    open   \n",
       "timestamp                                                                \n",
       "2019-07-19 04:00:00+00:00        9948  111.225017          NaN  111.22   \n",
       "2019-07-22 04:00:00+00:00        7937  111.344721     0.001259  111.41   \n",
       "2019-07-23 04:00:00+00:00       10894  111.219201    -0.000988  111.27   \n",
       "2019-07-24 04:00:00+00:00       12750  111.337833     0.001439  111.33   \n",
       "2019-07-25 04:00:00+00:00       11325  111.190464    -0.001527  111.33   \n",
       "\n",
       "                                                                           \\\n",
       "                              high       low   close   volume trade_count   \n",
       "timestamp                                                                   \n",
       "2019-07-19 04:00:00+00:00  111.286  111.1400  111.17  3150774        9948   \n",
       "2019-07-22 04:00:00+00:00  111.410  111.3000  111.31  2855073        7937   \n",
       "2019-07-23 04:00:00+00:00  111.320  111.1600  111.20  2659305       10894   \n",
       "2019-07-24 04:00:00+00:00  111.410  111.2950  111.36  2783461       12750   \n",
       "2019-07-25 04:00:00+00:00  111.330  111.0474  111.19  2977486       11325   \n",
       "\n",
       "                                                    \n",
       "                                 vwap daily_return  \n",
       "timestamp                                           \n",
       "2019-07-19 04:00:00+00:00  111.225017          NaN  \n",
       "2019-07-22 04:00:00+00:00  111.344721     0.001259  \n",
       "2019-07-23 04:00:00+00:00  111.219201    -0.000988  \n",
       "2019-07-24 04:00:00+00:00  111.337833     0.001439  \n",
       "2019-07-25 04:00:00+00:00  111.190464    -0.001527  "
      ]
     },
     "metadata": {},
     "output_type": "display_data"
    }
   ],
   "source": [
    "# Configure the Monte Carlo simulation to forecast 30 years cumulative returns\n",
    "# The weights should be split 40% to AGG and 60% to SPY.\n",
    "# Run 500 samples.\n",
    "stocks_bonds_simulation_thirty_years = MCSimulation(\n",
    "    portfolio_data=stocks_bonds_three_years,\n",
    "    weights=[0.60, 0.40],\n",
    "    num_simulation=500,\n",
    "    num_trading_days=252*30,\n",
    ")\n",
    "    \n",
    "# Review the simulation input data\n",
    "display(stocks_bonds_simulation_thirty_years.portfolio_data.head())"
   ]
  },
  {
   "cell_type": "code",
   "execution_count": 41,
   "metadata": {},
   "outputs": [
    {
     "name": "stdout",
     "output_type": "stream",
     "text": [
      "Running Monte Carlo simulation number 0.\n",
      "Running Monte Carlo simulation number 10.\n",
      "Running Monte Carlo simulation number 20.\n",
      "Running Monte Carlo simulation number 30.\n",
      "Running Monte Carlo simulation number 40.\n",
      "Running Monte Carlo simulation number 50.\n",
      "Running Monte Carlo simulation number 60.\n",
      "Running Monte Carlo simulation number 70.\n",
      "Running Monte Carlo simulation number 80.\n",
      "Running Monte Carlo simulation number 90.\n",
      "Running Monte Carlo simulation number 100.\n"
     ]
    },
    {
     "name": "stderr",
     "output_type": "stream",
     "text": [
      "C:\\Users\\bengu\\documents\\monte_carlo_simulation\\MCForecastTools.py:117: PerformanceWarning: DataFrame is highly fragmented.  This is usually the result of calling `frame.insert` many times, which has poor performance.  Consider joining all columns at once using pd.concat(axis=1) instead.  To get a de-fragmented frame, use `newframe = frame.copy()`\n",
      "  portfolio_cumulative_returns[n] = (1 + sim_df.fillna(0)).cumprod()\n"
     ]
    },
    {
     "name": "stdout",
     "output_type": "stream",
     "text": [
      "Running Monte Carlo simulation number 110.\n",
      "Running Monte Carlo simulation number 120.\n",
      "Running Monte Carlo simulation number 130.\n",
      "Running Monte Carlo simulation number 140.\n",
      "Running Monte Carlo simulation number 150.\n",
      "Running Monte Carlo simulation number 160.\n",
      "Running Monte Carlo simulation number 170.\n",
      "Running Monte Carlo simulation number 180.\n",
      "Running Monte Carlo simulation number 190.\n",
      "Running Monte Carlo simulation number 200.\n",
      "Running Monte Carlo simulation number 210.\n",
      "Running Monte Carlo simulation number 220.\n",
      "Running Monte Carlo simulation number 230.\n",
      "Running Monte Carlo simulation number 240.\n",
      "Running Monte Carlo simulation number 250.\n",
      "Running Monte Carlo simulation number 260.\n",
      "Running Monte Carlo simulation number 270.\n",
      "Running Monte Carlo simulation number 280.\n",
      "Running Monte Carlo simulation number 290.\n",
      "Running Monte Carlo simulation number 300.\n",
      "Running Monte Carlo simulation number 310.\n",
      "Running Monte Carlo simulation number 320.\n",
      "Running Monte Carlo simulation number 330.\n",
      "Running Monte Carlo simulation number 340.\n",
      "Running Monte Carlo simulation number 350.\n",
      "Running Monte Carlo simulation number 360.\n",
      "Running Monte Carlo simulation number 370.\n",
      "Running Monte Carlo simulation number 380.\n",
      "Running Monte Carlo simulation number 390.\n",
      "Running Monte Carlo simulation number 400.\n",
      "Running Monte Carlo simulation number 410.\n",
      "Running Monte Carlo simulation number 420.\n",
      "Running Monte Carlo simulation number 430.\n",
      "Running Monte Carlo simulation number 440.\n",
      "Running Monte Carlo simulation number 450.\n",
      "Running Monte Carlo simulation number 460.\n",
      "Running Monte Carlo simulation number 470.\n",
      "Running Monte Carlo simulation number 480.\n",
      "Running Monte Carlo simulation number 490.\n"
     ]
    }
   ],
   "source": [
    "# Run the Monte Carlo simulation to forecast 30 years cumulative returns\n",
    "mc_simulation_returns = stocks_bonds_simulation_thirty_years.calc_cumulative_return()"
   ]
  },
  {
   "cell_type": "code",
   "execution_count": 42,
   "metadata": {},
   "outputs": [
    {
     "data": {
      "text/plain": [
       "<AxesSubplot:title={'center':'500 Simulations of Cumulative Portfolio Return Trajectories Over the Next 7560 Trading Days.'}>"
      ]
     },
     "execution_count": 42,
     "metadata": {},
     "output_type": "execute_result"
    },
    {
     "data": {
      "image/png": "[encoded data removed]",
      "text/plain": [
       "<Figure size 432x288 with 1 Axes>"
      ]
     },
     "metadata": {
      "needs_background": "light"
     },
     "output_type": "display_data"
    }
   ],
   "source": [
    "# Visualize the 30-year Monte Carlo simulation by creating an\n",
    "# overlay line plot\n",
    "stocks_bonds_simulation_thirty_years.plot_simulation()"
   ]
  },
  {
   "cell_type": "markdown",
   "metadata": {},
   "source": [
    "#### Step 3: Plot the probability distribution of the Monte Carlo simulation."
   ]
  },
  {
   "cell_type": "code",
   "execution_count": 43,
   "metadata": {},
   "outputs": [
    {
     "data": {
      "text/plain": [
       "<AxesSubplot:title={'center':'Distribution of Final Cumuluative Returns Across All 500 Simulations'}, ylabel='Frequency'>"
      ]
     },
     "execution_count": 43,
     "metadata": {},
     "output_type": "execute_result"
    },
    {
     "data": {
      "image/png": "[encoded data removed]",
      "text/plain": [
       "<Figure size 432x288 with 1 Axes>"
      ]
     },
     "metadata": {
      "needs_background": "light"
     },
     "output_type": "display_data"
    }
   ],
   "source": [
    "# Visualize the probability distribution of the 30-year Monte Carlo simulation \n",
    "# by plotting a histogram\n",
    "stocks_bonds_simulation_thirty_years.plot_distribution()"
   ]
  },
  {
   "cell_type": "markdown",
   "metadata": {},
   "source": [
    "#### Step 4: Generate the summary statistics for the Monte Carlo simulation."
   ]
  },
  {
   "cell_type": "code",
   "execution_count": 46,
   "metadata": {},
   "outputs": [
    {
     "data": {
      "text/plain": [
       "count           500.000000\n",
       "mean              0.462113\n",
       "std               0.128791\n",
       "min               0.209373\n",
       "25%               0.364599\n",
       "50%               0.450820\n",
       "75%               0.533331\n",
       "max               1.059333\n",
       "95% CI Lower      0.263718\n",
       "95% CI Upper      0.771051\n",
       "Name: 7560, dtype: float64"
      ]
     },
     "metadata": {},
     "output_type": "display_data"
    }
   ],
   "source": [
    "# Generate summary statistics from the 30-year Monte Carlo simulation results\n",
    "# Save the results as a variable\n",
    "thirty_year_summary = stocks_bonds_simulation_thirty_years.summarize_cumulative_return()\n",
    "\n",
    "# Review the 30-year Monte Carlo summary statistics\n",
    "display(thirty_year_summary)"
   ]
  },
  {
   "cell_type": "markdown",
   "metadata": {},
   "source": [
    "### Analyze the Retirement Portfolio Forecasts\n",
    "\n",
    "Using the current value of only the stock and bond portion of the member's portfolio and the summary statistics that you generated from the Monte Carlo simulation, answer the following question in your Jupyter notebook:\n",
    "\n",
    "-  What are the lower and upper bounds for the expected value of the portfolio with a 95% confidence interval?\n"
   ]
  },
  {
   "cell_type": "code",
   "execution_count": 47,
   "metadata": {},
   "outputs": [
    {
     "data": {
      "text/plain": [
       "99011.786"
      ]
     },
     "execution_count": 47,
     "metadata": {},
     "output_type": "execute_result"
    }
   ],
   "source": [
    "# Print the current balance of the stock and bond portion of the members portfolio\n",
    "total_portfolio"
   ]
  },
  {
   "cell_type": "code",
   "execution_count": 52,
   "metadata": {},
   "outputs": [
    {
     "data": {
      "text/plain": [
       "'The portfolio in thirty years will be between: $ 26111.20 and $ 76343.13'"
      ]
     },
     "metadata": {},
     "output_type": "display_data"
    }
   ],
   "source": [
    "# Use the lower and upper `95%` confidence intervals to calculate the range of the possible outcomes for the current stock/bond portfolio\n",
    "ci_lower_thirty_cumulative_return = thirty_year_summary[\"95% CI Lower\"]\n",
    "ci_upper_thirty_cumulative_return = thirty_year_summary[\"95% CI Upper\"]\n",
    "\n",
    "# Print the result of your calculations\n",
    "display(f\"With 95% confidence the portfolio in thirty years will be between: ${ci_lower_thirty_cumulative_return * total_portfolio: .2f} and ${ci_upper_thirty_cumulative_return * total_portfolio: .2f}\")\n"
   ]
  },
  {
   "cell_type": "markdown",
   "metadata": {},
   "source": [
    "### Forecast Cumulative Returns in 10 Years\n",
    "\n",
    "The CTO of the credit union is impressed with your work on these planning tools but wonders if 30 years is a long time to wait until retirement. So, your next task is to adjust the retirement portfolio and run a new Monte Carlo simulation to find out if the changes will allow members to retire earlier.\n",
    "\n",
    "For this new Monte Carlo simulation, do the following: \n",
    "\n",
    "- Forecast the cumulative returns for 10 years from now. Because of the shortened investment horizon (30 years to 10 years), the portfolio needs to invest more heavily in the riskier asset&mdash;that is, stock&mdash;to help accumulate wealth for retirement. \n",
    "\n",
    "- Adjust the weights of the retirement portfolio so that the composition for the Monte Carlo simulation consists of 20% bonds and 80% stocks. \n",
    "\n",
    "- Run the simulation over 500 samples, and use the same data that the API call to Alpaca generated.\n",
    "\n",
    "- Based on the new Monte Carlo simulation, answer the following questions in your Jupyter notebook:\n",
    "\n",
    "    - Using the current value of only the stock and bond portion of the member's portfolio and the summary statistics that you generated from the new Monte Carlo simulation, what are the lower and upper bounds for the expected value of the portfolio (with the new weights) with a 95% confidence interval?\n",
    "\n",
    "    - Will weighting the portfolio more heavily toward stocks allow the credit union members to retire after only 10 years?\n"
   ]
  },
  {
   "cell_type": "code",
   "execution_count": 56,
   "metadata": {},
   "outputs": [
    {
     "data": {
      "text/html": [
       "<div>\n",
       "<style scoped>\n",
       "    .dataframe tbody tr th:only-of-type {\n",
       "        vertical-align: middle;\n",
       "    }\n",
       "\n",
       "    .dataframe tbody tr th {\n",
       "        vertical-align: top;\n",
       "    }\n",
       "\n",
       "    .dataframe thead tr th {\n",
       "        text-align: left;\n",
       "    }\n",
       "\n",
       "    .dataframe thead tr:last-of-type th {\n",
       "        text-align: right;\n",
       "    }\n",
       "</style>\n",
       "<table border=\"1\" class=\"dataframe\">\n",
       "  <thead>\n",
       "    <tr>\n",
       "      <th></th>\n",
       "      <th colspan=\"8\" halign=\"left\">SPY</th>\n",
       "      <th colspan=\"8\" halign=\"left\">AGG</th>\n",
       "    </tr>\n",
       "    <tr>\n",
       "      <th></th>\n",
       "      <th>open</th>\n",
       "      <th>high</th>\n",
       "      <th>low</th>\n",
       "      <th>close</th>\n",
       "      <th>volume</th>\n",
       "      <th>trade_count</th>\n",
       "      <th>vwap</th>\n",
       "      <th>daily_return</th>\n",
       "      <th>open</th>\n",
       "      <th>high</th>\n",
       "      <th>low</th>\n",
       "      <th>close</th>\n",
       "      <th>volume</th>\n",
       "      <th>trade_count</th>\n",
       "      <th>vwap</th>\n",
       "      <th>daily_return</th>\n",
       "    </tr>\n",
       "    <tr>\n",
       "      <th>timestamp</th>\n",
       "      <th></th>\n",
       "      <th></th>\n",
       "      <th></th>\n",
       "      <th></th>\n",
       "      <th></th>\n",
       "      <th></th>\n",
       "      <th></th>\n",
       "      <th></th>\n",
       "      <th></th>\n",
       "      <th></th>\n",
       "      <th></th>\n",
       "      <th></th>\n",
       "      <th></th>\n",
       "      <th></th>\n",
       "      <th></th>\n",
       "      <th></th>\n",
       "    </tr>\n",
       "  </thead>\n",
       "  <tbody>\n",
       "    <tr>\n",
       "      <th>2019-07-19 04:00:00+00:00</th>\n",
       "      <td>111.22</td>\n",
       "      <td>111.286</td>\n",
       "      <td>111.1400</td>\n",
       "      <td>111.17</td>\n",
       "      <td>3150774</td>\n",
       "      <td>9948</td>\n",
       "      <td>111.225017</td>\n",
       "      <td>NaN</td>\n",
       "      <td>111.22</td>\n",
       "      <td>111.286</td>\n",
       "      <td>111.1400</td>\n",
       "      <td>111.17</td>\n",
       "      <td>3150774</td>\n",
       "      <td>9948</td>\n",
       "      <td>111.225017</td>\n",
       "      <td>NaN</td>\n",
       "    </tr>\n",
       "    <tr>\n",
       "      <th>2019-07-22 04:00:00+00:00</th>\n",
       "      <td>111.41</td>\n",
       "      <td>111.410</td>\n",
       "      <td>111.3000</td>\n",
       "      <td>111.31</td>\n",
       "      <td>2855073</td>\n",
       "      <td>7937</td>\n",
       "      <td>111.344721</td>\n",
       "      <td>0.001259</td>\n",
       "      <td>111.41</td>\n",
       "      <td>111.410</td>\n",
       "      <td>111.3000</td>\n",
       "      <td>111.31</td>\n",
       "      <td>2855073</td>\n",
       "      <td>7937</td>\n",
       "      <td>111.344721</td>\n",
       "      <td>0.001259</td>\n",
       "    </tr>\n",
       "    <tr>\n",
       "      <th>2019-07-23 04:00:00+00:00</th>\n",
       "      <td>111.27</td>\n",
       "      <td>111.320</td>\n",
       "      <td>111.1600</td>\n",
       "      <td>111.20</td>\n",
       "      <td>2659305</td>\n",
       "      <td>10894</td>\n",
       "      <td>111.219201</td>\n",
       "      <td>-0.000988</td>\n",
       "      <td>111.27</td>\n",
       "      <td>111.320</td>\n",
       "      <td>111.1600</td>\n",
       "      <td>111.20</td>\n",
       "      <td>2659305</td>\n",
       "      <td>10894</td>\n",
       "      <td>111.219201</td>\n",
       "      <td>-0.000988</td>\n",
       "    </tr>\n",
       "    <tr>\n",
       "      <th>2019-07-24 04:00:00+00:00</th>\n",
       "      <td>111.33</td>\n",
       "      <td>111.410</td>\n",
       "      <td>111.2950</td>\n",
       "      <td>111.36</td>\n",
       "      <td>2783461</td>\n",
       "      <td>12750</td>\n",
       "      <td>111.337833</td>\n",
       "      <td>0.001439</td>\n",
       "      <td>111.33</td>\n",
       "      <td>111.410</td>\n",
       "      <td>111.2950</td>\n",
       "      <td>111.36</td>\n",
       "      <td>2783461</td>\n",
       "      <td>12750</td>\n",
       "      <td>111.337833</td>\n",
       "      <td>0.001439</td>\n",
       "    </tr>\n",
       "    <tr>\n",
       "      <th>2019-07-25 04:00:00+00:00</th>\n",
       "      <td>111.33</td>\n",
       "      <td>111.330</td>\n",
       "      <td>111.0474</td>\n",
       "      <td>111.19</td>\n",
       "      <td>2977486</td>\n",
       "      <td>11325</td>\n",
       "      <td>111.190464</td>\n",
       "      <td>-0.001527</td>\n",
       "      <td>111.33</td>\n",
       "      <td>111.330</td>\n",
       "      <td>111.0474</td>\n",
       "      <td>111.19</td>\n",
       "      <td>2977486</td>\n",
       "      <td>11325</td>\n",
       "      <td>111.190464</td>\n",
       "      <td>-0.001527</td>\n",
       "    </tr>\n",
       "  </tbody>\n",
       "</table>\n",
       "</div>"
      ],
      "text/plain": [
       "                              SPY                                      \\\n",
       "                             open     high       low   close   volume   \n",
       "timestamp                                                               \n",
       "2019-07-19 04:00:00+00:00  111.22  111.286  111.1400  111.17  3150774   \n",
       "2019-07-22 04:00:00+00:00  111.41  111.410  111.3000  111.31  2855073   \n",
       "2019-07-23 04:00:00+00:00  111.27  111.320  111.1600  111.20  2659305   \n",
       "2019-07-24 04:00:00+00:00  111.33  111.410  111.2950  111.36  2783461   \n",
       "2019-07-25 04:00:00+00:00  111.33  111.330  111.0474  111.19  2977486   \n",
       "\n",
       "                                                                   AGG  \\\n",
       "                          trade_count        vwap daily_return    open   \n",
       "timestamp                                                                \n",
       "2019-07-19 04:00:00+00:00        9948  111.225017          NaN  111.22   \n",
       "2019-07-22 04:00:00+00:00        7937  111.344721     0.001259  111.41   \n",
       "2019-07-23 04:00:00+00:00       10894  111.219201    -0.000988  111.27   \n",
       "2019-07-24 04:00:00+00:00       12750  111.337833     0.001439  111.33   \n",
       "2019-07-25 04:00:00+00:00       11325  111.190464    -0.001527  111.33   \n",
       "\n",
       "                                                                           \\\n",
       "                              high       low   close   volume trade_count   \n",
       "timestamp                                                                   \n",
       "2019-07-19 04:00:00+00:00  111.286  111.1400  111.17  3150774        9948   \n",
       "2019-07-22 04:00:00+00:00  111.410  111.3000  111.31  2855073        7937   \n",
       "2019-07-23 04:00:00+00:00  111.320  111.1600  111.20  2659305       10894   \n",
       "2019-07-24 04:00:00+00:00  111.410  111.2950  111.36  2783461       12750   \n",
       "2019-07-25 04:00:00+00:00  111.330  111.0474  111.19  2977486       11325   \n",
       "\n",
       "                                                    \n",
       "                                 vwap daily_return  \n",
       "timestamp                                           \n",
       "2019-07-19 04:00:00+00:00  111.225017          NaN  \n",
       "2019-07-22 04:00:00+00:00  111.344721     0.001259  \n",
       "2019-07-23 04:00:00+00:00  111.219201    -0.000988  \n",
       "2019-07-24 04:00:00+00:00  111.337833     0.001439  \n",
       "2019-07-25 04:00:00+00:00  111.190464    -0.001527  "
      ]
     },
     "metadata": {},
     "output_type": "display_data"
    }
   ],
   "source": [
    "# Configure a Monte Carlo simulation to forecast 10 years cumulative returns\n",
    "# The weights should be split 20% to AGG and 80% to SPY.\n",
    "# Run 500 samples.\n",
    "stocks_bonds_simulation_ten_years = MCSimulation(\n",
    "    portfolio_data=stocks_bonds_three_years,\n",
    "    weights=[0.20, 0.80],\n",
    "    num_simulation=500,\n",
    "    num_trading_days=252*10,\n",
    ")\n",
    "    \n",
    "# Review the simulation input data\n",
    "display(stocks_bonds_simulation_ten_years.portfolio_data.head())"
   ]
  },
  {
   "cell_type": "code",
   "execution_count": 57,
   "metadata": {},
   "outputs": [
    {
     "name": "stdout",
     "output_type": "stream",
     "text": [
      "Running Monte Carlo simulation number 0.\n",
      "Running Monte Carlo simulation number 10.\n",
      "Running Monte Carlo simulation number 20.\n",
      "Running Monte Carlo simulation number 30.\n",
      "Running Monte Carlo simulation number 40.\n",
      "Running Monte Carlo simulation number 50.\n",
      "Running Monte Carlo simulation number 60.\n",
      "Running Monte Carlo simulation number 70.\n",
      "Running Monte Carlo simulation number 80.\n",
      "Running Monte Carlo simulation number 90.\n",
      "Running Monte Carlo simulation number 100.\n"
     ]
    },
    {
     "name": "stderr",
     "output_type": "stream",
     "text": [
      "C:\\Users\\bengu\\documents\\monte_carlo_simulation\\MCForecastTools.py:117: PerformanceWarning: DataFrame is highly fragmented.  This is usually the result of calling `frame.insert` many times, which has poor performance.  Consider joining all columns at once using pd.concat(axis=1) instead.  To get a de-fragmented frame, use `newframe = frame.copy()`\n",
      "  portfolio_cumulative_returns[n] = (1 + sim_df.fillna(0)).cumprod()\n"
     ]
    },
    {
     "name": "stdout",
     "output_type": "stream",
     "text": [
      "Running Monte Carlo simulation number 110.\n",
      "Running Monte Carlo simulation number 120.\n",
      "Running Monte Carlo simulation number 130.\n",
      "Running Monte Carlo simulation number 140.\n",
      "Running Monte Carlo simulation number 150.\n",
      "Running Monte Carlo simulation number 160.\n",
      "Running Monte Carlo simulation number 170.\n",
      "Running Monte Carlo simulation number 180.\n",
      "Running Monte Carlo simulation number 190.\n",
      "Running Monte Carlo simulation number 200.\n",
      "Running Monte Carlo simulation number 210.\n",
      "Running Monte Carlo simulation number 220.\n",
      "Running Monte Carlo simulation number 230.\n",
      "Running Monte Carlo simulation number 240.\n",
      "Running Monte Carlo simulation number 250.\n",
      "Running Monte Carlo simulation number 260.\n",
      "Running Monte Carlo simulation number 270.\n",
      "Running Monte Carlo simulation number 280.\n",
      "Running Monte Carlo simulation number 290.\n",
      "Running Monte Carlo simulation number 300.\n",
      "Running Monte Carlo simulation number 310.\n",
      "Running Monte Carlo simulation number 320.\n",
      "Running Monte Carlo simulation number 330.\n",
      "Running Monte Carlo simulation number 340.\n",
      "Running Monte Carlo simulation number 350.\n",
      "Running Monte Carlo simulation number 360.\n",
      "Running Monte Carlo simulation number 370.\n",
      "Running Monte Carlo simulation number 380.\n",
      "Running Monte Carlo simulation number 390.\n",
      "Running Monte Carlo simulation number 400.\n",
      "Running Monte Carlo simulation number 410.\n",
      "Running Monte Carlo simulation number 420.\n",
      "Running Monte Carlo simulation number 430.\n",
      "Running Monte Carlo simulation number 440.\n",
      "Running Monte Carlo simulation number 450.\n",
      "Running Monte Carlo simulation number 460.\n",
      "Running Monte Carlo simulation number 470.\n",
      "Running Monte Carlo simulation number 480.\n",
      "Running Monte Carlo simulation number 490.\n"
     ]
    },
    {
     "data": {
      "text/html": [
       "<div>\n",
       "<style scoped>\n",
       "    .dataframe tbody tr th:only-of-type {\n",
       "        vertical-align: middle;\n",
       "    }\n",
       "\n",
       "    .dataframe tbody tr th {\n",
       "        vertical-align: top;\n",
       "    }\n",
       "\n",
       "    .dataframe thead th {\n",
       "        text-align: right;\n",
       "    }\n",
       "</style>\n",
       "<table border=\"1\" class=\"dataframe\">\n",
       "  <thead>\n",
       "    <tr style=\"text-align: right;\">\n",
       "      <th></th>\n",
       "      <th>0</th>\n",
       "      <th>1</th>\n",
       "      <th>2</th>\n",
       "      <th>3</th>\n",
       "      <th>4</th>\n",
       "      <th>5</th>\n",
       "      <th>6</th>\n",
       "      <th>7</th>\n",
       "      <th>8</th>\n",
       "      <th>9</th>\n",
       "      <th>...</th>\n",
       "      <th>490</th>\n",
       "      <th>491</th>\n",
       "      <th>492</th>\n",
       "      <th>493</th>\n",
       "      <th>494</th>\n",
       "      <th>495</th>\n",
       "      <th>496</th>\n",
       "      <th>497</th>\n",
       "      <th>498</th>\n",
       "      <th>499</th>\n",
       "    </tr>\n",
       "  </thead>\n",
       "  <tbody>\n",
       "    <tr>\n",
       "      <th>0</th>\n",
       "      <td>1.000000</td>\n",
       "      <td>1.000000</td>\n",
       "      <td>1.000000</td>\n",
       "      <td>1.000000</td>\n",
       "      <td>1.000000</td>\n",
       "      <td>1.000000</td>\n",
       "      <td>1.000000</td>\n",
       "      <td>1.000000</td>\n",
       "      <td>1.000000</td>\n",
       "      <td>1.000000</td>\n",
       "      <td>...</td>\n",
       "      <td>1.000000</td>\n",
       "      <td>1.000000</td>\n",
       "      <td>1.000000</td>\n",
       "      <td>1.000000</td>\n",
       "      <td>1.000000</td>\n",
       "      <td>1.000000</td>\n",
       "      <td>1.000000</td>\n",
       "      <td>1.000000</td>\n",
       "      <td>1.000000</td>\n",
       "      <td>1.000000</td>\n",
       "    </tr>\n",
       "    <tr>\n",
       "      <th>1</th>\n",
       "      <td>0.997085</td>\n",
       "      <td>0.995423</td>\n",
       "      <td>0.996296</td>\n",
       "      <td>1.000654</td>\n",
       "      <td>0.998077</td>\n",
       "      <td>0.995958</td>\n",
       "      <td>0.997271</td>\n",
       "      <td>1.001756</td>\n",
       "      <td>0.998888</td>\n",
       "      <td>1.004184</td>\n",
       "      <td>...</td>\n",
       "      <td>0.991680</td>\n",
       "      <td>0.996776</td>\n",
       "      <td>0.997219</td>\n",
       "      <td>1.004783</td>\n",
       "      <td>0.999109</td>\n",
       "      <td>0.996045</td>\n",
       "      <td>0.999177</td>\n",
       "      <td>0.995906</td>\n",
       "      <td>1.000190</td>\n",
       "      <td>0.997355</td>\n",
       "    </tr>\n",
       "    <tr>\n",
       "      <th>2</th>\n",
       "      <td>0.997405</td>\n",
       "      <td>0.998026</td>\n",
       "      <td>0.998042</td>\n",
       "      <td>0.998189</td>\n",
       "      <td>0.989354</td>\n",
       "      <td>0.998392</td>\n",
       "      <td>0.997683</td>\n",
       "      <td>1.000379</td>\n",
       "      <td>1.003657</td>\n",
       "      <td>1.004490</td>\n",
       "      <td>...</td>\n",
       "      <td>0.989325</td>\n",
       "      <td>0.996531</td>\n",
       "      <td>0.999054</td>\n",
       "      <td>1.010167</td>\n",
       "      <td>1.003652</td>\n",
       "      <td>0.990210</td>\n",
       "      <td>0.998813</td>\n",
       "      <td>0.993198</td>\n",
       "      <td>0.995352</td>\n",
       "      <td>0.993816</td>\n",
       "    </tr>\n",
       "    <tr>\n",
       "      <th>3</th>\n",
       "      <td>0.992896</td>\n",
       "      <td>0.996409</td>\n",
       "      <td>0.995260</td>\n",
       "      <td>0.994133</td>\n",
       "      <td>0.990591</td>\n",
       "      <td>1.001044</td>\n",
       "      <td>0.998623</td>\n",
       "      <td>1.002012</td>\n",
       "      <td>1.005637</td>\n",
       "      <td>1.006316</td>\n",
       "      <td>...</td>\n",
       "      <td>0.993663</td>\n",
       "      <td>0.988204</td>\n",
       "      <td>1.001554</td>\n",
       "      <td>1.015128</td>\n",
       "      <td>1.006954</td>\n",
       "      <td>0.987054</td>\n",
       "      <td>0.998964</td>\n",
       "      <td>0.994811</td>\n",
       "      <td>0.994269</td>\n",
       "      <td>0.991815</td>\n",
       "    </tr>\n",
       "    <tr>\n",
       "      <th>4</th>\n",
       "      <td>0.988011</td>\n",
       "      <td>0.994203</td>\n",
       "      <td>0.997441</td>\n",
       "      <td>0.995623</td>\n",
       "      <td>0.984154</td>\n",
       "      <td>0.999835</td>\n",
       "      <td>0.999120</td>\n",
       "      <td>0.998523</td>\n",
       "      <td>1.007980</td>\n",
       "      <td>1.001219</td>\n",
       "      <td>...</td>\n",
       "      <td>0.986591</td>\n",
       "      <td>0.985117</td>\n",
       "      <td>0.996700</td>\n",
       "      <td>1.017272</td>\n",
       "      <td>1.011576</td>\n",
       "      <td>0.989724</td>\n",
       "      <td>1.004393</td>\n",
       "      <td>0.998054</td>\n",
       "      <td>0.993636</td>\n",
       "      <td>0.986850</td>\n",
       "    </tr>\n",
       "    <tr>\n",
       "      <th>...</th>\n",
       "      <td>...</td>\n",
       "      <td>...</td>\n",
       "      <td>...</td>\n",
       "      <td>...</td>\n",
       "      <td>...</td>\n",
       "      <td>...</td>\n",
       "      <td>...</td>\n",
       "      <td>...</td>\n",
       "      <td>...</td>\n",
       "      <td>...</td>\n",
       "      <td>...</td>\n",
       "      <td>...</td>\n",
       "      <td>...</td>\n",
       "      <td>...</td>\n",
       "      <td>...</td>\n",
       "      <td>...</td>\n",
       "      <td>...</td>\n",
       "      <td>...</td>\n",
       "      <td>...</td>\n",
       "      <td>...</td>\n",
       "      <td>...</td>\n",
       "    </tr>\n",
       "    <tr>\n",
       "      <th>2516</th>\n",
       "      <td>0.682388</td>\n",
       "      <td>0.701580</td>\n",
       "      <td>0.699089</td>\n",
       "      <td>0.761016</td>\n",
       "      <td>0.798056</td>\n",
       "      <td>0.814262</td>\n",
       "      <td>0.888725</td>\n",
       "      <td>0.791289</td>\n",
       "      <td>0.638438</td>\n",
       "      <td>0.709233</td>\n",
       "      <td>...</td>\n",
       "      <td>0.771732</td>\n",
       "      <td>0.786085</td>\n",
       "      <td>0.792052</td>\n",
       "      <td>0.852240</td>\n",
       "      <td>0.754873</td>\n",
       "      <td>0.811715</td>\n",
       "      <td>0.645699</td>\n",
       "      <td>0.801273</td>\n",
       "      <td>0.667661</td>\n",
       "      <td>0.651183</td>\n",
       "    </tr>\n",
       "    <tr>\n",
       "      <th>2517</th>\n",
       "      <td>0.684656</td>\n",
       "      <td>0.700672</td>\n",
       "      <td>0.699273</td>\n",
       "      <td>0.764848</td>\n",
       "      <td>0.795050</td>\n",
       "      <td>0.811081</td>\n",
       "      <td>0.888805</td>\n",
       "      <td>0.792905</td>\n",
       "      <td>0.637766</td>\n",
       "      <td>0.710498</td>\n",
       "      <td>...</td>\n",
       "      <td>0.773883</td>\n",
       "      <td>0.786888</td>\n",
       "      <td>0.785548</td>\n",
       "      <td>0.852225</td>\n",
       "      <td>0.751841</td>\n",
       "      <td>0.810910</td>\n",
       "      <td>0.642108</td>\n",
       "      <td>0.796109</td>\n",
       "      <td>0.665779</td>\n",
       "      <td>0.655851</td>\n",
       "    </tr>\n",
       "    <tr>\n",
       "      <th>2518</th>\n",
       "      <td>0.683590</td>\n",
       "      <td>0.699840</td>\n",
       "      <td>0.697430</td>\n",
       "      <td>0.763925</td>\n",
       "      <td>0.796016</td>\n",
       "      <td>0.815081</td>\n",
       "      <td>0.890019</td>\n",
       "      <td>0.790642</td>\n",
       "      <td>0.637730</td>\n",
       "      <td>0.711495</td>\n",
       "      <td>...</td>\n",
       "      <td>0.775361</td>\n",
       "      <td>0.783932</td>\n",
       "      <td>0.788423</td>\n",
       "      <td>0.852083</td>\n",
       "      <td>0.750453</td>\n",
       "      <td>0.806699</td>\n",
       "      <td>0.646361</td>\n",
       "      <td>0.792408</td>\n",
       "      <td>0.662714</td>\n",
       "      <td>0.660683</td>\n",
       "    </tr>\n",
       "    <tr>\n",
       "      <th>2519</th>\n",
       "      <td>0.684474</td>\n",
       "      <td>0.699899</td>\n",
       "      <td>0.698240</td>\n",
       "      <td>0.761047</td>\n",
       "      <td>0.796919</td>\n",
       "      <td>0.814880</td>\n",
       "      <td>0.888624</td>\n",
       "      <td>0.787359</td>\n",
       "      <td>0.635686</td>\n",
       "      <td>0.708012</td>\n",
       "      <td>...</td>\n",
       "      <td>0.776278</td>\n",
       "      <td>0.787415</td>\n",
       "      <td>0.787972</td>\n",
       "      <td>0.849172</td>\n",
       "      <td>0.747705</td>\n",
       "      <td>0.807756</td>\n",
       "      <td>0.650108</td>\n",
       "      <td>0.793985</td>\n",
       "      <td>0.661715</td>\n",
       "      <td>0.660616</td>\n",
       "    </tr>\n",
       "    <tr>\n",
       "      <th>2520</th>\n",
       "      <td>0.683397</td>\n",
       "      <td>0.702469</td>\n",
       "      <td>0.695722</td>\n",
       "      <td>0.762377</td>\n",
       "      <td>0.801728</td>\n",
       "      <td>0.812989</td>\n",
       "      <td>0.885861</td>\n",
       "      <td>0.787583</td>\n",
       "      <td>0.636525</td>\n",
       "      <td>0.710336</td>\n",
       "      <td>...</td>\n",
       "      <td>0.773844</td>\n",
       "      <td>0.789978</td>\n",
       "      <td>0.787610</td>\n",
       "      <td>0.854019</td>\n",
       "      <td>0.750219</td>\n",
       "      <td>0.808758</td>\n",
       "      <td>0.648738</td>\n",
       "      <td>0.796453</td>\n",
       "      <td>0.664604</td>\n",
       "      <td>0.658591</td>\n",
       "    </tr>\n",
       "  </tbody>\n",
       "</table>\n",
       "<p>2521 rows × 500 columns</p>\n",
       "</div>"
      ],
      "text/plain": [
       "           0         1         2         3         4         5         6    \\\n",
       "0     1.000000  1.000000  1.000000  1.000000  1.000000  1.000000  1.000000   \n",
       "1     0.997085  0.995423  0.996296  1.000654  0.998077  0.995958  0.997271   \n",
       "2     0.997405  0.998026  0.998042  0.998189  0.989354  0.998392  0.997683   \n",
       "3     0.992896  0.996409  0.995260  0.994133  0.990591  1.001044  0.998623   \n",
       "4     0.988011  0.994203  0.997441  0.995623  0.984154  0.999835  0.999120   \n",
       "...        ...       ...       ...       ...       ...       ...       ...   \n",
       "2516  0.682388  0.701580  0.699089  0.761016  0.798056  0.814262  0.888725   \n",
       "2517  0.684656  0.700672  0.699273  0.764848  0.795050  0.811081  0.888805   \n",
       "2518  0.683590  0.699840  0.697430  0.763925  0.796016  0.815081  0.890019   \n",
       "2519  0.684474  0.699899  0.698240  0.761047  0.796919  0.814880  0.888624   \n",
       "2520  0.683397  0.702469  0.695722  0.762377  0.801728  0.812989  0.885861   \n",
       "\n",
       "           7         8         9    ...       490       491       492  \\\n",
       "0     1.000000  1.000000  1.000000  ...  1.000000  1.000000  1.000000   \n",
       "1     1.001756  0.998888  1.004184  ...  0.991680  0.996776  0.997219   \n",
       "2     1.000379  1.003657  1.004490  ...  0.989325  0.996531  0.999054   \n",
       "3     1.002012  1.005637  1.006316  ...  0.993663  0.988204  1.001554   \n",
       "4     0.998523  1.007980  1.001219  ...  0.986591  0.985117  0.996700   \n",
       "...        ...       ...       ...  ...       ...       ...       ...   \n",
       "2516  0.791289  0.638438  0.709233  ...  0.771732  0.786085  0.792052   \n",
       "2517  0.792905  0.637766  0.710498  ...  0.773883  0.786888  0.785548   \n",
       "2518  0.790642  0.637730  0.711495  ...  0.775361  0.783932  0.788423   \n",
       "2519  0.787359  0.635686  0.708012  ...  0.776278  0.787415  0.787972   \n",
       "2520  0.787583  0.636525  0.710336  ...  0.773844  0.789978  0.787610   \n",
       "\n",
       "           493       494       495       496       497       498       499  \n",
       "0     1.000000  1.000000  1.000000  1.000000  1.000000  1.000000  1.000000  \n",
       "1     1.004783  0.999109  0.996045  0.999177  0.995906  1.000190  0.997355  \n",
       "2     1.010167  1.003652  0.990210  0.998813  0.993198  0.995352  0.993816  \n",
       "3     1.015128  1.006954  0.987054  0.998964  0.994811  0.994269  0.991815  \n",
       "4     1.017272  1.011576  0.989724  1.004393  0.998054  0.993636  0.986850  \n",
       "...        ...       ...       ...       ...       ...       ...       ...  \n",
       "2516  0.852240  0.754873  0.811715  0.645699  0.801273  0.667661  0.651183  \n",
       "2517  0.852225  0.751841  0.810910  0.642108  0.796109  0.665779  0.655851  \n",
       "2518  0.852083  0.750453  0.806699  0.646361  0.792408  0.662714  0.660683  \n",
       "2519  0.849172  0.747705  0.807756  0.650108  0.793985  0.661715  0.660616  \n",
       "2520  0.854019  0.750219  0.808758  0.648738  0.796453  0.664604  0.658591  \n",
       "\n",
       "[2521 rows x 500 columns]"
      ]
     },
     "execution_count": 57,
     "metadata": {},
     "output_type": "execute_result"
    }
   ],
   "source": [
    "# Run the Monte Carlo simulation to forecast 10 years cumulative returns\n",
    "stocks_bonds_simulation_ten_years.calc_cumulative_return()"
   ]
  },
  {
   "cell_type": "code",
   "execution_count": 58,
   "metadata": {},
   "outputs": [
    {
     "data": {
      "text/plain": [
       "<AxesSubplot:title={'center':'500 Simulations of Cumulative Portfolio Return Trajectories Over the Next 2520 Trading Days.'}>"
      ]
     },
     "execution_count": 58,
     "metadata": {},
     "output_type": "execute_result"
    },
    {
     "data": {
      "image/png": "[encoded data removed]",
      "text/plain": [
       "<Figure size 432x288 with 1 Axes>"
      ]
     },
     "metadata": {
      "needs_background": "light"
     },
     "output_type": "display_data"
    }
   ],
   "source": [
    "# Visualize the 10-year Monte Carlo simulation by creating an\n",
    "# overlay line plot\n",
    "stocks_bonds_simulation_ten_years.plot_simulation()"
   ]
  },
  {
   "cell_type": "code",
   "execution_count": 59,
   "metadata": {},
   "outputs": [
    {
     "data": {
      "text/plain": [
       "<AxesSubplot:title={'center':'Distribution of Final Cumuluative Returns Across All 500 Simulations'}, ylabel='Frequency'>"
      ]
     },
     "execution_count": 59,
     "metadata": {},
     "output_type": "execute_result"
    },
    {
     "data": {
      "image/png": "[encoded data removed]",
      "text/plain": [
       "<Figure size 432x288 with 1 Axes>"
      ]
     },
     "metadata": {
      "needs_background": "light"
     },
     "output_type": "display_data"
    }
   ],
   "source": [
    "# Visualize the probability distribution of the 10-year Monte Carlo simulation \n",
    "# by plotting a histogram\n",
    "stocks_bonds_simulation_ten_years.plot_distribution()"
   ]
  },
  {
   "cell_type": "code",
   "execution_count": 61,
   "metadata": {},
   "outputs": [
    {
     "data": {
      "text/plain": [
       "count           500.000000\n",
       "mean              0.767355\n",
       "std               0.125502\n",
       "min               0.506415\n",
       "25%               0.675138\n",
       "50%               0.759899\n",
       "75%               0.845891\n",
       "max               1.206179\n",
       "95% CI Lower      0.564898\n",
       "95% CI Upper      1.058503\n",
       "Name: 2520, dtype: float64"
      ]
     },
     "metadata": {},
     "output_type": "display_data"
    }
   ],
   "source": [
    "# Generate summary statistics from the 10-year Monte Carlo simulation results\n",
    "# Save the results as a variable\n",
    "ten_year_summary = stocks_bonds_simulation_ten_years.summarize_cumulative_return()\n",
    "\n",
    "# Review the 10-year Monte Carlo summary statistics\n",
    "display(ten_year_summary)"
   ]
  },
  {
   "cell_type": "markdown",
   "metadata": {},
   "source": [
    "### Answer the following questions:"
   ]
  },
  {
   "cell_type": "markdown",
   "metadata": {},
   "source": [
    "#### Question: Using the current value of only the stock and bond portion of the member's portfolio and the summary statistics that you generated from the new Monte Carlo simulation, what are the lower and upper bounds for the expected value of the portfolio (with the new weights) with a 95% confidence interval?"
   ]
  },
  {
   "cell_type": "code",
   "execution_count": 62,
   "metadata": {},
   "outputs": [
    {
     "data": {
      "text/plain": [
       "99011.786"
      ]
     },
     "execution_count": 62,
     "metadata": {},
     "output_type": "execute_result"
    }
   ],
   "source": [
    "# Print the current balance of the stock and bond portion of the members portfolio\n",
    "total_portfolio"
   ]
  },
  {
   "cell_type": "code",
   "execution_count": 67,
   "metadata": {},
   "outputs": [
    {
     "data": {
      "text/plain": [
       "'With 95% confidence the portfolio in thirty years will be between: $ 55931.55 and $ 104804.30'"
      ]
     },
     "metadata": {},
     "output_type": "display_data"
    }
   ],
   "source": [
    "# Use the lower and upper `95%` confidence intervals to calculate the range of the possible outcomes for the current stock/bond portfolio\n",
    "ci_lower_ten_cumulative_return = ten_year_summary[\"95% CI Lower\"] \n",
    "ci_upper_ten_cumulative_return = ten_year_summary[\"95% CI Upper\"] \n",
    "\n",
    "# Print the result of your calculations\n",
    "display(f\"With 95% confidence the portfolio in thirty years will be between: ${ci_lower_ten_cumulative_return * total_portfolio: .2f} and ${ci_upper_ten_cumulative_return * total_portfolio: .2f}\")"
   ]
  },
  {
   "cell_type": "markdown",
   "metadata": {},
   "source": [
    "#### Question: Will weighting the portfolio more heavily to stocks allow the credit union members to retire after only 10 years?"
   ]
  },
  {
   "cell_type": "raw",
   "metadata": {},
   "source": [
    "**Answer** # Based on the results of the two sets of simulations over the course of 30 years and 10 years, the client would be safer to put more of their portfolio in bonds rather than stocks. The ten year projection which weighed bonds at 80% and stocks at 20% saw a 95% confidence interval for the portfolio's holdings to be between $55,931 and $104,804.30. The thirty year projection, which was more heavily reliant on stocks at a 60% to 40% bond to stock ratio, saw the portfolio at a value of between $26111.20 and $76343.13 with 95% confidence. This indicates a far more dismal projection for a portfolio which is more heavily diversified in stocks. It should be noted that much of the data that was used to train the simulation came during the economic downturn that arose during the covid-19 pandemic which was a black-swan level event for the markets. In the future, this portfolio should be assessed with longer term data to train the simulation, and I believe, would likely result in a more positive forecast. "
   ]
  },
  {
   "cell_type": "code",
   "execution_count": null,
   "metadata": {},
   "outputs": [],
   "source": []
  }
 ],
 "metadata": {
  "kernelspec": {
   "display_name": "Python 3 (ipykernel)",
   "language": "python",
   "name": "python3"
  },
  "language_info": {
   "codemirror_mode": {
    "name": "ipython",
    "version": 3
   },
   "file_extension": ".py",
   "mimetype": "text/x-python",
   "name": "python",
   "nbconvert_exporter": "python",
   "pygments_lexer": "ipython3",
   "version": "3.7.13"
  }
 },
 "nbformat": 4,
 "nbformat_minor": 4
}
